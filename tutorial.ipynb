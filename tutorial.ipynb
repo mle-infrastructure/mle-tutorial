{
 "cells": [
  {
   "cell_type": "markdown",
   "id": "6d98134b-4c41-406b-a8ad-9bd9d67b1183",
   "metadata": {},
   "source": [
    "# Welcome to the MLE-Infrastructure 🔺\n",
    "<a href=\"https://github.com/mle-infrastructure/mle-tutorial/blob/main/docs/logo_transparent.png?raw=true\"><img src=\"https://github.com/mle-infrastructure/mle-tutorial/blob/main/docs/logo_transparent.png?raw=true\" width=\"200\" align=\"right\" /></a>\n",
    "In this tutorial we will get to know the basics of the MLE-Infrastructure. The overall aim is to provide a standardized workflow for ML experimentation, which allows you to track and easily scale your scientific experiments. It consists of 5 different sub-packages, which integrate neatly together:\n",
    "\n",
    "1. **[`mle-logging`](https://github.com/mle-infrastructure/mle-logging)**: A Lightweight Logger for ML Experiments 📖 [![Colab](https://colab.research.google.com/assets/colab-badge.svg)](https://colab.research.google.com/github/mle-infrastructure/mle-logging/blob/main/examples/getting_started.ipynb)\n",
    "2. **[`mle-scheduler`](https://github.com/mle-infrastructure/mle-scheduler)**: A Lightweight Cluster/Cloud VM Job Management Tool 🚀 [![Colab](https://colab.research.google.com/assets/colab-badge.svg)](https://colab.research.google.com/github/mle-infrastructure/mle-scheduler/blob/main/examples/getting_started.ipynb)\n",
    "3. **[`mle-hyperopt`](https://github.com/mle-infrastructure/mle-hyperopt)**: A Lightweight Hyperparameter Optimization Tool 🚂 [![Colab](https://colab.research.google.com/assets/colab-badge.svg)](https://colab.research.google.com/github/mle-infrastructure/mle-hyperopt/blob/main/examples/getting_started.ipynb)\n",
    "4. **[`mle-monitor`](https://github.com/mle-infrastructure/mle-monitor)**: A Lightweight Experiment & Resource Monitoring Tool 📺 [![Colab](https://colab.research.google.com/assets/colab-badge.svg)](https://colab.research.google.com/github/mle-infrastructure/mle-monitor/blob/main/examples/getting_started.ipynb)\n",
    "5. **[`mle-toolbox`](https://github.com/mle-infrastructure/mle-toolbox)**: A Lightweight Tool to Manage Distributed ML Experiments 🛠 [![Colab](https://colab.research.google.com/assets/colab-badge.svg)](https://colab.research.google.com/github/mle-infrastructure/mle-tutorial/blob/main/tutorial.ipynb)\n",
    "\n",
    "If you would like to get a more detailed introduction, please check out the respective Colab notebooks.\n",
    "\n",
    "<img src=\"https://github.com/mle-infrastructure/mle-tutorial/blob/main/docs/toolbox_overview.png?raw=true\" alt=\"drawing\" width=\"900\"/>"
   ]
  },
  {
   "cell_type": "code",
   "execution_count": 1,
   "id": "48be33e8-a67c-4cdc-aab7-746177c63e8a",
   "metadata": {},
   "outputs": [],
   "source": [
    "# Install all required dependencies\n",
    "try:\n",
    "    import mle_toolbox\n",
    "except:\n",
    "    !pip -q install mle-toolbox\n",
    "\n",
    "# Check if code is run in Colab: If so -- download configs from repo\n",
    "try:\n",
    "    import google.colab\n",
    "    IN_COLAB = True\n",
    "    !git clone https://github.com/mle-infrastructure/mle-tutorial\n",
    "    !cd mle-tutorial\n",
    "    !ls\n",
    "except:\n",
    "    IN_COLAB = False"
   ]
  },
  {
   "cell_type": "markdown",
   "id": "30263652-3e80-4622-9245-1ce84beb25f2",
   "metadata": {},
   "source": [
    "# Log your Experiments with `mle-logging` 📖 [![GitHub stars](https://img.shields.io/github/stars/mle-infrastructure/mle-logging.svg?style=social)](https://GitHub.com/mle-infrastructure/mle-logging/stargazers/)\n",
    "\n",
    "<img src=\"https://github.com/mle-infrastructure/mle-logging/blob/main/docs/mle_logger_structure.png?raw=true\" alt=\"drawing\" width=\"900\"/>"
   ]
  },
  {
   "cell_type": "markdown",
   "id": "5903f5ff-c6c7-4db6-980b-1ac09e76e721",
   "metadata": {},
   "source": [
    "### Define surrogate network training function"
   ]
  },
  {
   "cell_type": "code",
   "execution_count": 2,
   "id": "6f07341e-f727-4049-b092-45bfc00f102c",
   "metadata": {},
   "outputs": [],
   "source": [
    "from mle_logging import MLELogger\n",
    "\n",
    "def train_your_net(epoch: int, seed_id: int, lrate: float, batch_size: int, arch: str):\n",
    "    \"\"\"Optimum: lrate=0.2, batch_size=4, arch='conv'.\"\"\"\n",
    "    import random\n",
    "    f1 = (lrate - 0.2) ** 2 + (batch_size - 4) ** 2 + (0 if arch == \"conv\" else 10)\n",
    "    train_loss = f1 + seed_id * 0.5\n",
    "    test_loss = f1 + seed_id * 0.5 + random.uniform(0, 0.3)\n",
    "    return train_loss / epoch, test_loss / epoch"
   ]
  },
  {
   "cell_type": "markdown",
   "id": "3e40e974-bdc4-453e-9a16-78ab1223dfc9",
   "metadata": {},
   "source": [
    "### Load training configuration from `.yaml` file"
   ]
  },
  {
   "cell_type": "code",
   "execution_count": 3,
   "id": "836cd05a-7c04-4e81-9b80-1fd6a5b45660",
   "metadata": {},
   "outputs": [],
   "source": [
    "from mle_logging.utils import load_yaml_config\n",
    "\n",
    "train_config = {\"lrate\": 0.2,\n",
    "                \"batch_size\": 4,\n",
    "                \"arch\": \"mlp\"}\n",
    "\n",
    "config_fname = \"configs/base_config_1.yaml\"\n",
    "train_config = load_yaml_config(config_fname)"
   ]
  },
  {
   "cell_type": "markdown",
   "id": "4aac53fb-ce95-4d12-8628-ccec150547ff",
   "metadata": {},
   "source": [
    "### Instantiate a logger for your training run"
   ]
  },
  {
   "cell_type": "code",
   "execution_count": 4,
   "id": "d0150379-210b-4a40-a4c7-5ee3825971a2",
   "metadata": {},
   "outputs": [
    {
     "data": {
      "text/html": [
       "<pre style=\"white-space:pre;overflow-x:auto;line-height:normal;font-family:Menlo,'DejaVu Sans Mono',consolas,'Courier New',monospace\"><span style=\"color: #c0c0c0; text-decoration-color: #c0c0c0; background-color: #000080\">╭──────────────────────────────────────────────────────────────────────────────╮</span>\n",
       "<span style=\"color: #c0c0c0; text-decoration-color: #c0c0c0; background-color: #000080\">│  __    __  __      ______  __      ______  ______          10/12/21 11:17:18 │</span>\n",
       "<span style=\"color: #c0c0c0; text-decoration-color: #c0c0c0; background-color: #000080\">│ /\\ \"-./  \\/\\ \\    /\\  ___\\/\\ \\    /\\  __ \\/\\  ___\\          Logger v0.0.4 🔏 │</span>\n",
       "<span style=\"color: #c0c0c0; text-decoration-color: #c0c0c0; background-color: #000080\">│ \\ \\ \\-./\\ \\ \\ \\___\\ \\  __\\  \\ \\___\\ \\ \\/\\ \\ \\ \\__ \\         </span><a href=\"https://twitter.com/RobertTLange\"><span style=\"color: #c0c0c0; text-decoration-color: #c0c0c0; background-color: #000080\">@RobertTLange</span></a><span style=\"color: #c0c0c0; text-decoration-color: #c0c0c0; background-color: #000080\"> 🐦 │</span>\n",
       "<span style=\"color: #c0c0c0; text-decoration-color: #c0c0c0; background-color: #000080\">│  \\ \\_\\ \\ \\_\\ \\_____\\ \\_____\\ \\_____\\ \\_____\\ \\_____\\         </span><a href=\"https://github.com/RobertTLange/mle-logging/blob/main/examples/getting_started.ipynb\"><span style=\"color: #c0c0c0; text-decoration-color: #c0c0c0; background-color: #000080\">MLE-Log Docs</span></a><span style=\"color: #c0c0c0; text-decoration-color: #c0c0c0; background-color: #000080\"> </span><span style=\"color: #c0c0c0; text-decoration-color: #c0c0c0; background-color: #000080\">📓</span><span style=\"color: #c0c0c0; text-decoration-color: #c0c0c0; background-color: #000080\"> │</span>\n",
       "<span style=\"color: #c0c0c0; text-decoration-color: #c0c0c0; background-color: #000080\">│   \\/_/  \\/_/\\/_____/\\/_____/\\/_____/\\/_____/\\/_____/         </span><a href=\"https://github.com/RobertTLange/mle-logging/\"><span style=\"color: #c0c0c0; text-decoration-color: #c0c0c0; background-color: #000080\">MLE-Log Repo</span></a><span style=\"color: #c0c0c0; text-decoration-color: #c0c0c0; background-color: #000080\"> </span><span style=\"color: #c0c0c0; text-decoration-color: #c0c0c0; background-color: #000080\">📝</span><span style=\"color: #c0c0c0; text-decoration-color: #c0c0c0; background-color: #000080\"> │</span>\n",
       "<span style=\"color: #c0c0c0; text-decoration-color: #c0c0c0; background-color: #000080\">╰──────────────────────────────────────────────────────────────────────────────╯</span>\n",
       "</pre>\n"
      ],
      "text/plain": [
       "\u001b[37;44m╭──────────────────────────────────────────────────────────────────────────────╮\u001b[0m\n",
       "\u001b[37;44m│\u001b[0m\u001b[37;44m \u001b[0m\u001b[37;44m __    __  __      ______  __      ______  ______        \u001b[0m\u001b[37;44m  10/12/21 11:17:18\u001b[0m\u001b[37;44m \u001b[0m\u001b[37;44m│\u001b[0m\n",
       "\u001b[37;44m│\u001b[0m\u001b[37;44m \u001b[0m\u001b[37;44m/\\ \"-./  \\/\\ \\    /\\  ___\\/\\ \\    /\\  __ \\/\\  ___\\       \u001b[0m\u001b[37;44m   Logger v0.0.4 🔏\u001b[0m\u001b[37;44m \u001b[0m\u001b[37;44m│\u001b[0m\n",
       "\u001b[37;44m│\u001b[0m\u001b[37;44m \u001b[0m\u001b[37;44m\\ \\ \\-./\\ \\ \\ \\___\\ \\  __\\  \\ \\___\\ \\ \\/\\ \\ \\ \\__ \\      \u001b[0m\u001b[37;44m   \u001b[0m\u001b]8;id=30372;https://twitter.com/RobertTLange\u001b\\\u001b[37;44m@RobertTLange\u001b[0m\u001b]8;;\u001b\\\u001b[37;44m 🐦\u001b[0m\u001b[37;44m \u001b[0m\u001b[37;44m│\u001b[0m\n",
       "\u001b[37;44m│\u001b[0m\u001b[37;44m \u001b[0m\u001b[37;44m \\ \\_\\ \\ \\_\\ \\_____\\ \\_____\\ \\_____\\ \\_____\\ \\_____\\     \u001b[0m\u001b[37;44m    \u001b[0m\u001b]8;id=224400;https://github.com/RobertTLange/mle-logging/blob/main/examples/getting_started.ipynb\u001b\\\u001b[37;44mMLE-Log Docs\u001b[0m\u001b]8;;\u001b\\\u001b[37;44m \u001b[0m\u001b[37;44m📓\u001b[0m\u001b[37;44m \u001b[0m\u001b[37;44m│\u001b[0m\n",
       "\u001b[37;44m│\u001b[0m\u001b[37;44m \u001b[0m\u001b[37;44m  \\/_/  \\/_/\\/_____/\\/_____/\\/_____/\\/_____/\\/_____/     \u001b[0m\u001b[37;44m    \u001b[0m\u001b]8;id=520888;https://github.com/RobertTLange/mle-logging/\u001b\\\u001b[37;44mMLE-Log Repo\u001b[0m\u001b]8;;\u001b\\\u001b[37;44m \u001b[0m\u001b[37;44m📝\u001b[0m\u001b[37;44m \u001b[0m\u001b[37;44m│\u001b[0m\n",
       "\u001b[37;44m╰──────────────────────────────────────────────────────────────────────────────╯\u001b[0m\n"
      ]
     },
     "metadata": {},
     "output_type": "display_data"
    },
    {
     "data": {
      "text/html": [
       "<pre style=\"white-space:pre;overflow-x:auto;line-height:normal;font-family:Menlo,'DejaVu Sans Mono',consolas,'Courier New',monospace\">╭──────────────────────────────────────────────────────────────────────────────╮\n",
       "│ ╭────────────────────────────────────╮╭────────────────────────────────────╮ │\n",
       "│ │ <span style=\"font-weight: bold\">📖 Log Dir</span>:                        ││ <span style=\"font-weight: bold\">📄 Config</span>:                         │ │\n",
       "│ │ experiments/log_logging/base_conf… ││ configs/base_config_1.yaml         │ │\n",
       "│ ╰────────────────────────────────────╯╰────────────────────────────────────╯ │\n",
       "│ ╭────────────────────────────────────╮╭────────────────────────────────────╮ │\n",
       "│ │ <span style=\"font-weight: bold\">⌚ Time</span>: num_epochs                ││ <span style=\"font-weight: bold\">📉 Stats</span>: train_loss, test_loss    │ │\n",
       "│ ╰────────────────────────────────────╯╰────────────────────────────────────╯ │\n",
       "│ ╭────────────────────────────────────╮╭────────────────────────────────────╮ │\n",
       "│ │ <span style=\"font-weight: bold\">🌱 Seed ID</span>: 1                      ││ <span style=\"font-weight: bold\">🚀 Model</span>: no-model-type            │ │\n",
       "│ ╰────────────────────────────────────╯╰────────────────────────────────────╯ │\n",
       "╰──────────────────────────────────────────────────────────────────────────────╯\n",
       "</pre>\n"
      ],
      "text/plain": [
       "╭──────────────────────────────────────────────────────────────────────────────╮\n",
       "│ ╭────────────────────────────────────╮╭────────────────────────────────────╮ │\n",
       "│ │ \u001b[1m📖 Log Dir\u001b[0m:                        ││ \u001b[1m📄 Config\u001b[0m:                         │ │\n",
       "│ │ experiments/log_logging/base_conf… ││ configs/base_config_1.yaml         │ │\n",
       "│ ╰────────────────────────────────────╯╰────────────────────────────────────╯ │\n",
       "│ ╭────────────────────────────────────╮╭────────────────────────────────────╮ │\n",
       "│ │ \u001b[1m⌚ Time\u001b[0m: num_epochs                ││ \u001b[1m📉 Stats\u001b[0m: train_loss, test_loss    │ │\n",
       "│ ╰────────────────────────────────────╯╰────────────────────────────────────╯ │\n",
       "│ ╭────────────────────────────────────╮╭────────────────────────────────────╮ │\n",
       "│ │ \u001b[1m🌱 Seed ID\u001b[0m: 1                      ││ \u001b[1m🚀 Model\u001b[0m: no-model-type            │ │\n",
       "│ ╰────────────────────────────────────╯╰────────────────────────────────────╯ │\n",
       "╰──────────────────────────────────────────────────────────────────────────────╯\n"
      ]
     },
     "metadata": {},
     "output_type": "display_data"
    }
   ],
   "source": [
    "seed_id = 1\n",
    "\n",
    "log = MLELogger(\n",
    "    experiment_dir=\"experiments/log_logging\",\n",
    "    config_fname=config_fname,\n",
    "    seed_id=seed_id,\n",
    "    time_to_track=[\"num_epochs\"],\n",
    "    what_to_track=[\"train_loss\", \"test_loss\"],\n",
    "    print_every_k_updates=2,\n",
    "    verbose=True\n",
    ")"
   ]
  },
  {
   "cell_type": "markdown",
   "id": "42a47d2e-7dae-4f32-8211-c313d6467f16",
   "metadata": {},
   "source": [
    "### Log the training statistics"
   ]
  },
  {
   "cell_type": "code",
   "execution_count": 5,
   "id": "85428af3-7b64-4522-8443-91c15863d70b",
   "metadata": {},
   "outputs": [
    {
     "data": {
      "text/html": [
       "<pre style=\"white-space:pre;overflow-x:auto;line-height:normal;font-family:Menlo,'DejaVu Sans Mono',consolas,'Courier New',monospace\">       <span style=\"color: #c0c0c0; text-decoration-color: #c0c0c0\">                                                                 </span>        \n",
       "       <span style=\"color: #c0c0c0; text-decoration-color: #c0c0c0\"> </span><span style=\"font-weight: bold\"> ⌚ </span><span style=\"color: #800000; text-decoration-color: #800000; font-weight: bold\">time</span><span style=\"font-weight: bold\">        </span><span style=\"color: #c0c0c0; text-decoration-color: #c0c0c0\"> </span><span style=\"font-weight: bold\">  </span><span style=\"color: #800000; text-decoration-color: #800000; font-weight: bold\">num_epochs</span><span style=\"font-weight: bold\">  </span><span style=\"color: #c0c0c0; text-decoration-color: #c0c0c0\"> </span><span style=\"font-weight: bold\"> 📉 </span><span style=\"color: #000080; text-decoration-color: #000080; font-weight: bold\">train_loss</span><span style=\"font-weight: bold\">  </span><span style=\"color: #c0c0c0; text-decoration-color: #c0c0c0\"> </span><span style=\"font-weight: bold\">  </span><span style=\"color: #000080; text-decoration-color: #000080; font-weight: bold\">test_loss</span><span style=\"font-weight: bold\">   </span><span style=\"color: #c0c0c0; text-decoration-color: #c0c0c0\"> </span>        \n",
       "       <span style=\"color: #c0c0c0; text-decoration-color: #c0c0c0\"> ─────────────────────────────────────────────────────────────── </span>        \n",
       "       <span style=\"color: #c0c0c0; text-decoration-color: #c0c0c0\"> </span><span style=\"color: #800000; text-decoration-color: #800000\"> 21-12-10/11:17 </span><span style=\"color: #c0c0c0; text-decoration-color: #c0c0c0\"> </span><span style=\"color: #800000; text-decoration-color: #800000\">      2       </span><span style=\"color: #c0c0c0; text-decoration-color: #c0c0c0\"> </span>      5.25      <span style=\"color: #c0c0c0; text-decoration-color: #c0c0c0\"> </span>    5.3916    <span style=\"color: #c0c0c0; text-decoration-color: #c0c0c0\"> </span>        \n",
       "       <span style=\"color: #c0c0c0; text-decoration-color: #c0c0c0\">                                                                 </span>        \n",
       "</pre>\n"
      ],
      "text/plain": [
       "       \u001b[37m                                                                 \u001b[0m        \n",
       "       \u001b[37m \u001b[0m\u001b[1m \u001b[0m\u001b[1m⌚ \u001b[0m\u001b[1;31mtime\u001b[0m\u001b[1m       \u001b[0m\u001b[1m \u001b[0m\u001b[37m \u001b[0m\u001b[1m \u001b[0m\u001b[1m \u001b[0m\u001b[1;31mnum_epochs\u001b[0m\u001b[1m \u001b[0m\u001b[1m \u001b[0m\u001b[37m \u001b[0m\u001b[1m \u001b[0m\u001b[1m📉 \u001b[0m\u001b[1;34mtrain_loss\u001b[0m\u001b[1m \u001b[0m\u001b[1m \u001b[0m\u001b[37m \u001b[0m\u001b[1m \u001b[0m\u001b[1m \u001b[0m\u001b[1;34mtest_loss\u001b[0m\u001b[1m  \u001b[0m\u001b[1m \u001b[0m\u001b[37m \u001b[0m        \n",
       "       \u001b[37m ─────────────────────────────────────────────────────────────── \u001b[0m        \n",
       "       \u001b[37m \u001b[0m\u001b[31m \u001b[0m\u001b[31m21-12-10/11:17\u001b[0m\u001b[31m \u001b[0m\u001b[37m \u001b[0m\u001b[31m \u001b[0m\u001b[31m     2      \u001b[0m\u001b[31m \u001b[0m\u001b[37m \u001b[0m      5.25      \u001b[37m \u001b[0m    5.3916    \u001b[37m \u001b[0m        \n",
       "       \u001b[37m                                                                 \u001b[0m        \n"
      ]
     },
     "metadata": {},
     "output_type": "display_data"
    },
    {
     "data": {
      "text/html": [
       "<pre style=\"white-space:pre;overflow-x:auto;line-height:normal;font-family:Menlo,'DejaVu Sans Mono',consolas,'Courier New',monospace\">       <span style=\"color: #c0c0c0; text-decoration-color: #c0c0c0\">                                                                 </span>        \n",
       "       <span style=\"color: #c0c0c0; text-decoration-color: #c0c0c0\"> </span><span style=\"color: #800000; text-decoration-color: #800000\"> 21-12-10/11:17 </span><span style=\"color: #c0c0c0; text-decoration-color: #c0c0c0\"> </span><span style=\"color: #800000; text-decoration-color: #800000\">      4       </span><span style=\"color: #c0c0c0; text-decoration-color: #c0c0c0\"> </span>     2.625      <span style=\"color: #c0c0c0; text-decoration-color: #c0c0c0\"> </span>    2.6317    <span style=\"color: #c0c0c0; text-decoration-color: #c0c0c0\"> </span>        \n",
       "       <span style=\"color: #c0c0c0; text-decoration-color: #c0c0c0\">                                                                 </span>        \n",
       "</pre>\n"
      ],
      "text/plain": [
       "       \u001b[37m                                                                 \u001b[0m        \n",
       "       \u001b[37m \u001b[0m\u001b[31m \u001b[0m\u001b[31m21-12-10/11:17\u001b[0m\u001b[31m \u001b[0m\u001b[37m \u001b[0m\u001b[31m \u001b[0m\u001b[31m     4      \u001b[0m\u001b[31m \u001b[0m\u001b[37m \u001b[0m     2.625      \u001b[37m \u001b[0m    2.6317    \u001b[37m \u001b[0m        \n",
       "       \u001b[37m                                                                 \u001b[0m        \n"
      ]
     },
     "metadata": {},
     "output_type": "display_data"
    },
    {
     "data": {
      "text/html": [
       "<pre style=\"white-space:pre;overflow-x:auto;line-height:normal;font-family:Menlo,'DejaVu Sans Mono',consolas,'Courier New',monospace\">       <span style=\"color: #c0c0c0; text-decoration-color: #c0c0c0\">                                                                 </span>        \n",
       "       <span style=\"color: #c0c0c0; text-decoration-color: #c0c0c0\"> </span><span style=\"color: #800000; text-decoration-color: #800000\"> 21-12-10/11:17 </span><span style=\"color: #c0c0c0; text-decoration-color: #c0c0c0\"> </span><span style=\"color: #800000; text-decoration-color: #800000\">      6       </span><span style=\"color: #c0c0c0; text-decoration-color: #c0c0c0\"> </span>      1.75      <span style=\"color: #c0c0c0; text-decoration-color: #c0c0c0\"> </span>    1.7914    <span style=\"color: #c0c0c0; text-decoration-color: #c0c0c0\"> </span>        \n",
       "       <span style=\"color: #c0c0c0; text-decoration-color: #c0c0c0\">                                                                 </span>        \n",
       "</pre>\n"
      ],
      "text/plain": [
       "       \u001b[37m                                                                 \u001b[0m        \n",
       "       \u001b[37m \u001b[0m\u001b[31m \u001b[0m\u001b[31m21-12-10/11:17\u001b[0m\u001b[31m \u001b[0m\u001b[37m \u001b[0m\u001b[31m \u001b[0m\u001b[31m     6      \u001b[0m\u001b[31m \u001b[0m\u001b[37m \u001b[0m      1.75      \u001b[37m \u001b[0m    1.7914    \u001b[37m \u001b[0m        \n",
       "       \u001b[37m                                                                 \u001b[0m        \n"
      ]
     },
     "metadata": {},
     "output_type": "display_data"
    },
    {
     "data": {
      "text/html": [
       "<pre style=\"white-space:pre;overflow-x:auto;line-height:normal;font-family:Menlo,'DejaVu Sans Mono',consolas,'Courier New',monospace\">       <span style=\"color: #c0c0c0; text-decoration-color: #c0c0c0\">                                                                 </span>        \n",
       "       <span style=\"color: #c0c0c0; text-decoration-color: #c0c0c0\"> </span><span style=\"color: #800000; text-decoration-color: #800000\"> 21-12-10/11:17 </span><span style=\"color: #c0c0c0; text-decoration-color: #c0c0c0\"> </span><span style=\"color: #800000; text-decoration-color: #800000\">      8       </span><span style=\"color: #c0c0c0; text-decoration-color: #c0c0c0\"> </span>     1.3125     <span style=\"color: #c0c0c0; text-decoration-color: #c0c0c0\"> </span>    1.3409    <span style=\"color: #c0c0c0; text-decoration-color: #c0c0c0\"> </span>        \n",
       "       <span style=\"color: #c0c0c0; text-decoration-color: #c0c0c0\">                                                                 </span>        \n",
       "</pre>\n"
      ],
      "text/plain": [
       "       \u001b[37m                                                                 \u001b[0m        \n",
       "       \u001b[37m \u001b[0m\u001b[31m \u001b[0m\u001b[31m21-12-10/11:17\u001b[0m\u001b[31m \u001b[0m\u001b[37m \u001b[0m\u001b[31m \u001b[0m\u001b[31m     8      \u001b[0m\u001b[31m \u001b[0m\u001b[37m \u001b[0m     1.3125     \u001b[37m \u001b[0m    1.3409    \u001b[37m \u001b[0m        \n",
       "       \u001b[37m                                                                 \u001b[0m        \n"
      ]
     },
     "metadata": {},
     "output_type": "display_data"
    },
    {
     "data": {
      "text/html": [
       "<pre style=\"white-space:pre;overflow-x:auto;line-height:normal;font-family:Menlo,'DejaVu Sans Mono',consolas,'Courier New',monospace\">       <span style=\"color: #c0c0c0; text-decoration-color: #c0c0c0\">                                                                 </span>        \n",
       "       <span style=\"color: #c0c0c0; text-decoration-color: #c0c0c0\"> </span><span style=\"color: #800000; text-decoration-color: #800000\"> 21-12-10/11:17 </span><span style=\"color: #c0c0c0; text-decoration-color: #c0c0c0\"> </span><span style=\"color: #800000; text-decoration-color: #800000\">      10      </span><span style=\"color: #c0c0c0; text-decoration-color: #c0c0c0\"> </span>      1.05      <span style=\"color: #c0c0c0; text-decoration-color: #c0c0c0\"> </span>    1.0799    <span style=\"color: #c0c0c0; text-decoration-color: #c0c0c0\"> </span>        \n",
       "       <span style=\"color: #c0c0c0; text-decoration-color: #c0c0c0\">                                                                 </span>        \n",
       "</pre>\n"
      ],
      "text/plain": [
       "       \u001b[37m                                                                 \u001b[0m        \n",
       "       \u001b[37m \u001b[0m\u001b[31m \u001b[0m\u001b[31m21-12-10/11:17\u001b[0m\u001b[31m \u001b[0m\u001b[37m \u001b[0m\u001b[31m \u001b[0m\u001b[31m     10     \u001b[0m\u001b[31m \u001b[0m\u001b[37m \u001b[0m      1.05      \u001b[37m \u001b[0m    1.0799    \u001b[37m \u001b[0m        \n",
       "       \u001b[37m                                                                 \u001b[0m        \n"
      ]
     },
     "metadata": {},
     "output_type": "display_data"
    }
   ],
   "source": [
    "for epoch in range(1, 11):\n",
    "    train_loss, test_loss = train_your_net(epoch, seed_id, **train_config)\n",
    "    log.update(\n",
    "        {\"num_epochs\": epoch},\n",
    "        {\"train_loss\": train_loss, \"test_loss\": test_loss},\n",
    "        save=True,\n",
    "    )"
   ]
  },
  {
   "cell_type": "markdown",
   "id": "d5b70a6f-76a8-4ac1-b5f6-f77793dacfa4",
   "metadata": {},
   "source": [
    "### Log model checkpoints & generated figures"
   ]
  },
  {
   "cell_type": "code",
   "execution_count": 6,
   "id": "278a2668-a708-4ebb-b1c0-345e4482e2bb",
   "metadata": {},
   "outputs": [
    {
     "data": {
      "image/png": "[encoded data removed]",
      "text/plain": [
       "<Figure size 432x288 with 1 Axes>"
      ]
     },
     "metadata": {},
     "output_type": "display_data"
    }
   ],
   "source": [
    "import torch.nn as nn\n",
    "\n",
    "# Create a dummy torch model to store\n",
    "class DummyModel(nn.Module):\n",
    "    def __init__(self):\n",
    "        super(DummyModel, self).__init__()\n",
    "        self.fc1 = nn.Linear(28*28, 300)\n",
    "        self.fc2 = nn.Linear(300, 10)\n",
    "\n",
    "    def forward(self, x):\n",
    "        x = self.fc1(x)\n",
    "        x = self.fc2(x)\n",
    "        return x\n",
    "    \n",
    "model = DummyModel()\n",
    "\n",
    "# Create a dummy plot to store\n",
    "import numpy as np\n",
    "import matplotlib.pyplot as plt\n",
    "fig, ax = plt.subplots()\n",
    "ax.plot(np.sin(np.linspace(0, 10, 50)))\n",
    "\n",
    "# Create a dummy dictionary to store\n",
    "some_dict = {\"hi\": \"there\"} "
   ]
  },
  {
   "cell_type": "code",
   "execution_count": 7,
   "id": "edc05a78-7ffc-466f-810a-d5425b39d97d",
   "metadata": {},
   "outputs": [
    {
     "data": {
      "text/html": [
       "<pre style=\"white-space:pre;overflow-x:auto;line-height:normal;font-family:Menlo,'DejaVu Sans Mono',consolas,'Courier New',monospace\"><span style=\"color: #c0c0c0; text-decoration-color: #c0c0c0; background-color: #000080\">╭──────────────────────────────────────────────────────────────────────────────╮</span>\n",
       "<span style=\"color: #c0c0c0; text-decoration-color: #c0c0c0; background-color: #000080\">│  __    __  __      ______  __      ______  ______          10/12/21 11:17:19 │</span>\n",
       "<span style=\"color: #c0c0c0; text-decoration-color: #c0c0c0; background-color: #000080\">│ /\\ \"-./  \\/\\ \\    /\\  ___\\/\\ \\    /\\  __ \\/\\  ___\\          Logger v0.0.4 🔏 │</span>\n",
       "<span style=\"color: #c0c0c0; text-decoration-color: #c0c0c0; background-color: #000080\">│ \\ \\ \\-./\\ \\ \\ \\___\\ \\  __\\  \\ \\___\\ \\ \\/\\ \\ \\ \\__ \\         </span><a href=\"https://twitter.com/RobertTLange\"><span style=\"color: #c0c0c0; text-decoration-color: #c0c0c0; background-color: #000080\">@RobertTLange</span></a><span style=\"color: #c0c0c0; text-decoration-color: #c0c0c0; background-color: #000080\"> 🐦 │</span>\n",
       "<span style=\"color: #c0c0c0; text-decoration-color: #c0c0c0; background-color: #000080\">│  \\ \\_\\ \\ \\_\\ \\_____\\ \\_____\\ \\_____\\ \\_____\\ \\_____\\         </span><a href=\"https://github.com/RobertTLange/mle-logging/blob/main/examples/getting_started.ipynb\"><span style=\"color: #c0c0c0; text-decoration-color: #c0c0c0; background-color: #000080\">MLE-Log Docs</span></a><span style=\"color: #c0c0c0; text-decoration-color: #c0c0c0; background-color: #000080\"> </span><span style=\"color: #c0c0c0; text-decoration-color: #c0c0c0; background-color: #000080\">📓</span><span style=\"color: #c0c0c0; text-decoration-color: #c0c0c0; background-color: #000080\"> │</span>\n",
       "<span style=\"color: #c0c0c0; text-decoration-color: #c0c0c0; background-color: #000080\">│   \\/_/  \\/_/\\/_____/\\/_____/\\/_____/\\/_____/\\/_____/         </span><a href=\"https://github.com/RobertTLange/mle-logging/\"><span style=\"color: #c0c0c0; text-decoration-color: #c0c0c0; background-color: #000080\">MLE-Log Repo</span></a><span style=\"color: #c0c0c0; text-decoration-color: #c0c0c0; background-color: #000080\"> </span><span style=\"color: #c0c0c0; text-decoration-color: #c0c0c0; background-color: #000080\">📝</span><span style=\"color: #c0c0c0; text-decoration-color: #c0c0c0; background-color: #000080\"> │</span>\n",
       "<span style=\"color: #c0c0c0; text-decoration-color: #c0c0c0; background-color: #000080\">╰──────────────────────────────────────────────────────────────────────────────╯</span>\n",
       "</pre>\n"
      ],
      "text/plain": [
       "\u001b[37;44m╭──────────────────────────────────────────────────────────────────────────────╮\u001b[0m\n",
       "\u001b[37;44m│\u001b[0m\u001b[37;44m \u001b[0m\u001b[37;44m __    __  __      ______  __      ______  ______        \u001b[0m\u001b[37;44m  10/12/21 11:17:19\u001b[0m\u001b[37;44m \u001b[0m\u001b[37;44m│\u001b[0m\n",
       "\u001b[37;44m│\u001b[0m\u001b[37;44m \u001b[0m\u001b[37;44m/\\ \"-./  \\/\\ \\    /\\  ___\\/\\ \\    /\\  __ \\/\\  ___\\       \u001b[0m\u001b[37;44m   Logger v0.0.4 🔏\u001b[0m\u001b[37;44m \u001b[0m\u001b[37;44m│\u001b[0m\n",
       "\u001b[37;44m│\u001b[0m\u001b[37;44m \u001b[0m\u001b[37;44m\\ \\ \\-./\\ \\ \\ \\___\\ \\  __\\  \\ \\___\\ \\ \\/\\ \\ \\ \\__ \\      \u001b[0m\u001b[37;44m   \u001b[0m\u001b]8;id=33814;https://twitter.com/RobertTLange\u001b\\\u001b[37;44m@RobertTLange\u001b[0m\u001b]8;;\u001b\\\u001b[37;44m 🐦\u001b[0m\u001b[37;44m \u001b[0m\u001b[37;44m│\u001b[0m\n",
       "\u001b[37;44m│\u001b[0m\u001b[37;44m \u001b[0m\u001b[37;44m \\ \\_\\ \\ \\_\\ \\_____\\ \\_____\\ \\_____\\ \\_____\\ \\_____\\     \u001b[0m\u001b[37;44m    \u001b[0m\u001b]8;id=340708;https://github.com/RobertTLange/mle-logging/blob/main/examples/getting_started.ipynb\u001b\\\u001b[37;44mMLE-Log Docs\u001b[0m\u001b]8;;\u001b\\\u001b[37;44m \u001b[0m\u001b[37;44m📓\u001b[0m\u001b[37;44m \u001b[0m\u001b[37;44m│\u001b[0m\n",
       "\u001b[37;44m│\u001b[0m\u001b[37;44m \u001b[0m\u001b[37;44m  \\/_/  \\/_/\\/_____/\\/_____/\\/_____/\\/_____/\\/_____/     \u001b[0m\u001b[37;44m    \u001b[0m\u001b]8;id=893315;https://github.com/RobertTLange/mle-logging/\u001b\\\u001b[37;44mMLE-Log Repo\u001b[0m\u001b]8;;\u001b\\\u001b[37;44m \u001b[0m\u001b[37;44m📝\u001b[0m\u001b[37;44m \u001b[0m\u001b[37;44m│\u001b[0m\n",
       "\u001b[37;44m╰──────────────────────────────────────────────────────────────────────────────╯\u001b[0m\n"
      ]
     },
     "metadata": {},
     "output_type": "display_data"
    },
    {
     "data": {
      "text/html": [
       "<pre style=\"white-space:pre;overflow-x:auto;line-height:normal;font-family:Menlo,'DejaVu Sans Mono',consolas,'Courier New',monospace\">╭──────────────────────────────────────────────────────────────────────────────╮\n",
       "│ ╭──────────────────────────────────────╮╭──────────────────────────────────╮ │\n",
       "│ │ <span style=\"font-weight: bold\">📖 Log Dir</span>: experiments/log_model    ││ <span style=\"font-weight: bold\">📄 Config</span>: None                  │ │\n",
       "│ ╰──────────────────────────────────────╯╰──────────────────────────────────╯ │\n",
       "│ ╭──────────────────────────────────────╮╭──────────────────────────────────╮ │\n",
       "│ │ <span style=\"font-weight: bold\">⌚ Time</span>: num_epochs                  ││ <span style=\"font-weight: bold\">📉 Stats</span>: train_loss, test_loss  │ │\n",
       "│ ╰──────────────────────────────────────╯╰──────────────────────────────────╯ │\n",
       "│ ╭──────────────────────────────────────╮╭──────────────────────────────────╮ │\n",
       "│ │ <span style=\"font-weight: bold\">🌱 Seed ID</span>: 1                        ││ <span style=\"font-weight: bold\">🚀 Model</span>: torch                  │ │\n",
       "│ ╰──────────────────────────────────────╯╰──────────────────────────────────╯ │\n",
       "╰──────────────────────────────────────────────────────────────────────────────╯\n",
       "</pre>\n"
      ],
      "text/plain": [
       "╭──────────────────────────────────────────────────────────────────────────────╮\n",
       "│ ╭──────────────────────────────────────╮╭──────────────────────────────────╮ │\n",
       "│ │ \u001b[1m📖 Log Dir\u001b[0m: experiments/log_model    ││ \u001b[1m📄 Config\u001b[0m: None                  │ │\n",
       "│ ╰──────────────────────────────────────╯╰──────────────────────────────────╯ │\n",
       "│ ╭──────────────────────────────────────╮╭──────────────────────────────────╮ │\n",
       "│ │ \u001b[1m⌚ Time\u001b[0m: num_epochs                  ││ \u001b[1m📉 Stats\u001b[0m: train_loss, test_loss  │ │\n",
       "│ ╰──────────────────────────────────────╯╰──────────────────────────────────╯ │\n",
       "│ ╭──────────────────────────────────────╮╭──────────────────────────────────╮ │\n",
       "│ │ \u001b[1m🌱 Seed ID\u001b[0m: 1                        ││ \u001b[1m🚀 Model\u001b[0m: torch                  │ │\n",
       "│ ╰──────────────────────────────────────╯╰──────────────────────────────────╯ │\n",
       "╰──────────────────────────────────────────────────────────────────────────────╯\n"
      ]
     },
     "metadata": {},
     "output_type": "display_data"
    },
    {
     "data": {
      "text/html": [
       "<pre style=\"white-space:pre;overflow-x:auto;line-height:normal;font-family:Menlo,'DejaVu Sans Mono',consolas,'Courier New',monospace\"><span style=\"color: #c0c0c0; text-decoration-color: #c0c0c0\">                                                                                </span>\n",
       "<span style=\"color: #c0c0c0; text-decoration-color: #c0c0c0\"> </span><span style=\"color: #800000; text-decoration-color: #800000\"> 📩 - Figure  </span><span style=\"color: #c0c0c0; text-decoration-color: #c0c0c0\"> </span><span style=\"color: #800000; text-decoration-color: #800000\"> experiments/log_model/figures/fig_1_seed_1.png                </span><span style=\"color: #c0c0c0; text-decoration-color: #c0c0c0\"> </span>\n",
       "<span style=\"color: #c0c0c0; text-decoration-color: #c0c0c0\"> </span><span style=\"color: #800000; text-decoration-color: #800000\"> 📩 - Extra   </span><span style=\"color: #c0c0c0; text-decoration-color: #c0c0c0\"> </span><span style=\"color: #800000; text-decoration-color: #800000\"> experiments/log_model/extra/extra_1_seed_1.pkl                </span><span style=\"color: #c0c0c0; text-decoration-color: #c0c0c0\"> </span>\n",
       "<span style=\"color: #c0c0c0; text-decoration-color: #c0c0c0\"> </span><span style=\"color: #800000; text-decoration-color: #800000\"> 📩 - Model   </span><span style=\"color: #c0c0c0; text-decoration-color: #c0c0c0\"> </span><span style=\"color: #800000; text-decoration-color: #800000\"> experiments/log_model/models/final/final_seed_1.pt            </span><span style=\"color: #c0c0c0; text-decoration-color: #c0c0c0\"> </span>\n",
       "<span style=\"color: #c0c0c0; text-decoration-color: #c0c0c0\">                                                                                </span>\n",
       "</pre>\n"
      ],
      "text/plain": [
       "\u001b[37m                                                                                \u001b[0m\n",
       "\u001b[37m \u001b[0m\u001b[31m \u001b[0m\u001b[31m📩 - Figure \u001b[0m\u001b[31m \u001b[0m\u001b[37m \u001b[0m\u001b[31m \u001b[0m\u001b[31mexperiments/log_model/figures/fig_1_seed_1.png               \u001b[0m\u001b[31m \u001b[0m\u001b[37m \u001b[0m\n",
       "\u001b[37m \u001b[0m\u001b[31m \u001b[0m\u001b[31m📩 - Extra  \u001b[0m\u001b[31m \u001b[0m\u001b[37m \u001b[0m\u001b[31m \u001b[0m\u001b[31mexperiments/log_model/extra/extra_1_seed_1.pkl               \u001b[0m\u001b[31m \u001b[0m\u001b[37m \u001b[0m\n",
       "\u001b[37m \u001b[0m\u001b[31m \u001b[0m\u001b[31m📩 - Model  \u001b[0m\u001b[31m \u001b[0m\u001b[37m \u001b[0m\u001b[31m \u001b[0m\u001b[31mexperiments/log_model/models/final/final_seed_1.pt           \u001b[0m\u001b[31m \u001b[0m\u001b[37m \u001b[0m\n",
       "\u001b[37m                                                                                \u001b[0m\n"
      ]
     },
     "metadata": {},
     "output_type": "display_data"
    },
    {
     "data": {
      "text/html": [
       "<pre style=\"white-space:pre;overflow-x:auto;line-height:normal;font-family:Menlo,'DejaVu Sans Mono',consolas,'Courier New',monospace\">       <span style=\"color: #c0c0c0; text-decoration-color: #c0c0c0\">                                                                 </span>        \n",
       "       <span style=\"color: #c0c0c0; text-decoration-color: #c0c0c0\"> </span><span style=\"font-weight: bold\"> ⌚ </span><span style=\"color: #800000; text-decoration-color: #800000; font-weight: bold\">time</span><span style=\"font-weight: bold\">        </span><span style=\"color: #c0c0c0; text-decoration-color: #c0c0c0\"> </span><span style=\"font-weight: bold\">  </span><span style=\"color: #800000; text-decoration-color: #800000; font-weight: bold\">num_epochs</span><span style=\"font-weight: bold\">  </span><span style=\"color: #c0c0c0; text-decoration-color: #c0c0c0\"> </span><span style=\"font-weight: bold\"> 📉 </span><span style=\"color: #000080; text-decoration-color: #000080; font-weight: bold\">train_loss</span><span style=\"font-weight: bold\">  </span><span style=\"color: #c0c0c0; text-decoration-color: #c0c0c0\"> </span><span style=\"font-weight: bold\">  </span><span style=\"color: #000080; text-decoration-color: #000080; font-weight: bold\">test_loss</span><span style=\"font-weight: bold\">   </span><span style=\"color: #c0c0c0; text-decoration-color: #c0c0c0\"> </span>        \n",
       "       <span style=\"color: #c0c0c0; text-decoration-color: #c0c0c0\"> ─────────────────────────────────────────────────────────────── </span>        \n",
       "       <span style=\"color: #c0c0c0; text-decoration-color: #c0c0c0\"> </span><span style=\"color: #800000; text-decoration-color: #800000\"> 21-12-10/11:17 </span><span style=\"color: #c0c0c0; text-decoration-color: #c0c0c0\"> </span><span style=\"color: #800000; text-decoration-color: #800000\">      1       </span><span style=\"color: #c0c0c0; text-decoration-color: #c0c0c0\"> </span>     0.1234     <span style=\"color: #c0c0c0; text-decoration-color: #c0c0c0\"> </span>    0.1235    <span style=\"color: #c0c0c0; text-decoration-color: #c0c0c0\"> </span>        \n",
       "       <span style=\"color: #c0c0c0; text-decoration-color: #c0c0c0\">                                                                 </span>        \n",
       "</pre>\n"
      ],
      "text/plain": [
       "       \u001b[37m                                                                 \u001b[0m        \n",
       "       \u001b[37m \u001b[0m\u001b[1m \u001b[0m\u001b[1m⌚ \u001b[0m\u001b[1;31mtime\u001b[0m\u001b[1m       \u001b[0m\u001b[1m \u001b[0m\u001b[37m \u001b[0m\u001b[1m \u001b[0m\u001b[1m \u001b[0m\u001b[1;31mnum_epochs\u001b[0m\u001b[1m \u001b[0m\u001b[1m \u001b[0m\u001b[37m \u001b[0m\u001b[1m \u001b[0m\u001b[1m📉 \u001b[0m\u001b[1;34mtrain_loss\u001b[0m\u001b[1m \u001b[0m\u001b[1m \u001b[0m\u001b[37m \u001b[0m\u001b[1m \u001b[0m\u001b[1m \u001b[0m\u001b[1;34mtest_loss\u001b[0m\u001b[1m  \u001b[0m\u001b[1m \u001b[0m\u001b[37m \u001b[0m        \n",
       "       \u001b[37m ─────────────────────────────────────────────────────────────── \u001b[0m        \n",
       "       \u001b[37m \u001b[0m\u001b[31m \u001b[0m\u001b[31m21-12-10/11:17\u001b[0m\u001b[31m \u001b[0m\u001b[37m \u001b[0m\u001b[31m \u001b[0m\u001b[31m     1      \u001b[0m\u001b[31m \u001b[0m\u001b[37m \u001b[0m     0.1234     \u001b[37m \u001b[0m    0.1235    \u001b[37m \u001b[0m        \n",
       "       \u001b[37m                                                                 \u001b[0m        \n"
      ]
     },
     "metadata": {},
     "output_type": "display_data"
    }
   ],
   "source": [
    "log = MLELogger(\n",
    "    experiment_dir=\"experiments/log_model\",\n",
    "    config_dict=train_config,\n",
    "    seed_id=seed_id,\n",
    "    time_to_track=[\"num_epochs\"],\n",
    "    what_to_track=[\"train_loss\", \"test_loss\"],\n",
    "    model_type=\"torch\",\n",
    "    verbose=True\n",
    ")\n",
    "\n",
    "# Or do everything in one go\n",
    "time_tic = {'num_updates': 10, 'num_epochs': 1}\n",
    "stats_tic = {'train_loss': 0.1234, 'test_loss': 0.1235}\n",
    "log.update(time_tic, stats_tic, model, fig, some_dict, save=True)"
   ]
  },
  {
   "cell_type": "markdown",
   "id": "8c1ee45f-f17a-4658-badd-beecf747dc09",
   "metadata": {},
   "source": [
    "### Reload and plot the results"
   ]
  },
  {
   "cell_type": "code",
   "execution_count": 8,
   "id": "31e981a2-11e5-4334-bcc9-4b6b451c18e4",
   "metadata": {},
   "outputs": [
    {
     "data": {
      "text/plain": [
       "(<Figure size 648x432 with 1 Axes>,\n",
       " <AxesSubplot:title={'center':'train_loss, test_loss'}, xlabel='num_epochs', ylabel='train_loss, test_loss'>)"
      ]
     },
     "execution_count": 8,
     "metadata": {},
     "output_type": "execute_result"
    },
    {
     "data": {
      "image/png": "[encoded data removed]",
      "text/plain": [
       "<Figure size 648x432 with 1 Axes>"
      ]
     },
     "metadata": {},
     "output_type": "display_data"
    }
   ],
   "source": [
    "# Reload log & visualize the data\n",
    "from mle_logging import load_log\n",
    "log = load_log(\"experiments/log_logging/base_config_1\")\n",
    "log.plot([\"train_loss\", \"test_loss\"])"
   ]
  },
  {
   "cell_type": "markdown",
   "id": "25845ab5-58d0-4ef1-a23c-750bcd254b98",
   "metadata": {},
   "source": [
    "# Launch your Experiments with `mle-scheduler` 🚀 [![GitHub stars](https://img.shields.io/github/stars/mle-infrastructure/mle-scheduler.svg?style=social)](https://GitHub.com/mle-infrastructure/mle-scheduler/stargazers/)\n",
    "\n",
    "<img src=\"https://github.com/mle-infrastructure/mle-scheduler/blob/main/docs/mle_scheduler_structure.png?raw=true\" alt=\"drawing\" width=\"900\"/>"
   ]
  },
  {
   "cell_type": "markdown",
   "id": "157390ba-72ec-498a-9122-b032e9d6f0a6",
   "metadata": {},
   "source": [
    "### Schedule queue of experiments with different seeds & configurations"
   ]
  },
  {
   "cell_type": "code",
   "execution_count": 9,
   "id": "8d7c2113-c121-4e96-a23e-626fca8d0da5",
   "metadata": {},
   "outputs": [
    {
     "data": {
      "application/vnd.jupyter.widget-view+json": {
       "model_id": "9ca4ed911aa94fe9aa68584525561396",
       "version_major": 2,
       "version_minor": 0
      },
      "text/plain": [
       "Output()"
      ]
     },
     "metadata": {},
     "output_type": "display_data"
    },
    {
     "data": {
      "text/html": [
       "<pre style=\"white-space:pre;overflow-x:auto;line-height:normal;font-family:Menlo,'DejaVu Sans Mono',consolas,'Courier New',monospace\">  <span style=\"color: #000080; text-decoration-color: #000080; font-weight: bold\">MLEQueue - local •</span> 4/4 Jobs <span style=\"color: #729c1f; text-decoration-color: #729c1f\">━━━━━━━━━━━━━━━━━━━━━━━━━━━</span> <span style=\"color: #800080; text-decoration-color: #800080\">100% •</span> <span style=\"color: #808000; text-decoration-color: #808000\">0:00:01</span> ⌛\n",
       "</pre>\n"
      ],
      "text/plain": [
       "  \u001b[1;34mMLEQueue - local •\u001b[0m 4/4 Jobs \u001b[38;2;114;156;31m━━━━━━━━━━━━━━━━━━━━━━━━━━━\u001b[0m \u001b[35m100% •\u001b[0m \u001b[33m0:00:01\u001b[0m ⌛\n"
      ]
     },
     "metadata": {},
     "output_type": "display_data"
    },
    {
     "data": {
      "text/html": [
       "<pre style=\"white-space:pre;overflow-x:auto;line-height:normal;font-family:Menlo,'DejaVu Sans Mono',consolas,'Courier New',monospace\">\n",
       "</pre>\n"
      ],
      "text/plain": [
       "\n"
      ]
     },
     "metadata": {},
     "output_type": "display_data"
    }
   ],
   "source": [
    "from mle_scheduler import MLEQueue\n",
    "\n",
    "queue = MLEQueue(resource_to_run=\"local\",\n",
    "                 job_filename=\"train.py\",\n",
    "                 config_filenames=[\"configs/base_config_1.yaml\",\n",
    "                                   \"configs/base_config_2.yaml\"],\n",
    "                 random_seeds=[0, 1],\n",
    "                 experiment_dir=\"experiments/logs_queue\")\n",
    "\n",
    "queue.run()"
   ]
  },
  {
   "cell_type": "markdown",
   "id": "bb29445e-c1ad-4158-8bae-742930096731",
   "metadata": {},
   "source": [
    "### Automatically merge logs into a single `meta_log.hdf5`"
   ]
  },
  {
   "cell_type": "code",
   "execution_count": 10,
   "id": "5ddce9c8-4026-4021-851f-40d3adcfe36d",
   "metadata": {},
   "outputs": [
    {
     "data": {
      "application/vnd.jupyter.widget-view+json": {
       "model_id": "6faa7b220d3f4d6ba4cd77e44016a2d6",
       "version_major": 2,
       "version_minor": 0
      },
      "text/plain": [
       "Output()"
      ]
     },
     "metadata": {},
     "output_type": "display_data"
    },
    {
     "data": {
      "text/html": [
       "<pre style=\"white-space:pre;overflow-x:auto;line-height:normal;font-family:Menlo,'DejaVu Sans Mono',consolas,'Courier New',monospace\">  <span style=\"color: #000080; text-decoration-color: #000080; font-weight: bold\">MLEQueue - local •</span> 4/4 Jobs <span style=\"color: #729c1f; text-decoration-color: #729c1f\">━━━━━━━━━━━━━━━━━━━━━━━━━━━</span> <span style=\"color: #800080; text-decoration-color: #800080\">100% •</span> <span style=\"color: #808000; text-decoration-color: #808000\">0:00:01</span> ⌛\n",
       "</pre>\n"
      ],
      "text/plain": [
       "  \u001b[1;34mMLEQueue - local •\u001b[0m 4/4 Jobs \u001b[38;2;114;156;31m━━━━━━━━━━━━━━━━━━━━━━━━━━━\u001b[0m \u001b[35m100% •\u001b[0m \u001b[33m0:00:01\u001b[0m ⌛\n"
      ]
     },
     "metadata": {},
     "output_type": "display_data"
    },
    {
     "data": {
      "text/html": [
       "<pre style=\"white-space:pre;overflow-x:auto;line-height:normal;font-family:Menlo,'DejaVu Sans Mono',consolas,'Courier New',monospace\">\n",
       "</pre>\n"
      ],
      "text/plain": [
       "\n"
      ]
     },
     "metadata": {},
     "output_type": "display_data"
    }
   ],
   "source": [
    "from mle_scheduler import MLEQueue\n",
    "\n",
    "queue = MLEQueue(resource_to_run=\"local\",\n",
    "                 job_filename=\"train.py\",\n",
    "                 config_filenames=[\"configs/base_config_1.yaml\",\n",
    "                                   \"configs/base_config_2.yaml\"],\n",
    "                 random_seeds=[0, 1],\n",
    "                 experiment_dir=\"experiments/logs_queue\",\n",
    "                 automerge_configs=True)\n",
    "\n",
    "queue.run()"
   ]
  },
  {
   "cell_type": "markdown",
   "id": "5db1ebb5-bcfa-44e5-9be4-9bb5fc7407bc",
   "metadata": {},
   "source": [
    "### Load in the log and visualize different runs"
   ]
  },
  {
   "cell_type": "code",
   "execution_count": 11,
   "id": "dda896ba-78ee-4d0d-b775-2305b0c67277",
   "metadata": {},
   "outputs": [
    {
     "data": {
      "text/plain": [
       "(<Figure size 648x432 with 1 Axes>,\n",
       " <AxesSubplot:title={'center':'test_loss'}, xlabel='num_epochs', ylabel='test_loss'>)"
      ]
     },
     "execution_count": 11,
     "metadata": {},
     "output_type": "execute_result"
    },
    {
     "data": {
      "image/png": "[encoded data removed]",
      "text/plain": [
       "<Figure size 648x432 with 1 Axes>"
      ]
     },
     "metadata": {},
     "output_type": "display_data"
    }
   ],
   "source": [
    "from mle_logging import load_meta_log\n",
    "meta_log = load_log(\"experiments/logs_queue/meta_log.hdf5\", aggregate_seeds=False)\n",
    "meta_log.plot(\"test_loss\")"
   ]
  },
  {
   "cell_type": "markdown",
   "id": "cff0c16c-382b-4906-9c34-cdb6a3189198",
   "metadata": {},
   "source": [
    "### Schedule Jobs on a Slurm Cluster\n",
    "\n",
    "```python\n",
    "# Each job requests 5 CPU cores & 1 V100S GPU w. CUDA 10.0 loaded\n",
    "job_args = {\n",
    "    \"partition\": \"<SLURM_PARTITION>\",  # Partition(s) to schedule jobs on\n",
    "    \"env_name\": \"mle-toolbox\",  # Env to activate at job start-up\n",
    "    \"use_conda_venv\": True,  # Whether to use anaconda venv\n",
    "    \"num_logical_cores\": 5,  # Number of requested CPU cores per job\n",
    "    \"num_gpus\": 1,  # Number of requested GPUs per job\n",
    "    \"gpu_type\": \"V100S\",  # GPU model requested for each job\n",
    "    \"modules_to_load\": \"nvidia/cuda/10.0\"  # Modules to load at start-up\n",
    "}\n",
    "\n",
    "\n",
    "queue = MLEQueue(\n",
    "    resource_to_run=\"slurm-cluster\",\n",
    "    job_filename=\"train.py\",\n",
    "    job_arguments=job_args,\n",
    "    config_filenames=[\"base_config_1.yaml\",\n",
    "                      \"base_config_2.yaml\"],\n",
    "    experiment_dir=\"logs_queue_slurm\",\n",
    "    random_seeds=[0, 1]\n",
    ")\n",
    "queue.run()\n",
    "```\n",
    "\n",
    "### Schedule Jobs on a Grid Engine Cluster\n",
    "\n",
    "```python\n",
    "# Each job requests 5 CPU cores & 1 RTX 2080 GPU\n",
    "job_args = {\n",
    "    \"queue\": \"<SGE_QUEUE>\",  # Partition(s) to schedule jobs on\n",
    "    \"env_name\": \"mle-toolbox\",  # Env to activate at job start-up\n",
    "    \"use_conda_venv\": True,  # Whether to use anaconda venv\n",
    "    \"num_logical_cores\": 5,  # Number of requested CPU cores per job\n",
    "    \"num_gpus\": 1,  # Number of requested GPUs per job\n",
    "    \"gpu_type\": \"RTX2080\",  # GPU model requested for each job\n",
    "    \"gpu_prefix\": \"cuda\"  # Prefix for requiring GPUs\n",
    "}\n",
    "\n",
    "\n",
    "queue = MLEQueue(\n",
    "    resource_to_run=\"sge-cluster\",\n",
    "    job_filename=\"train.py\",\n",
    "    job_arguments=job_args,\n",
    "    config_filenames=[\"base_config_1.yaml\",\n",
    "                      \"base_config_2.yaml\"],\n",
    "    experiment_dir=\"logs_queue_sge\",\n",
    "    random_seeds=[0, 1]\n",
    ")\n",
    "queue.run()\n",
    "```"
   ]
  },
  {
   "cell_type": "markdown",
   "id": "0afed99e-fb9b-40ca-8f98-112cccee3579",
   "metadata": {},
   "source": [
    "# Hyperparameter Search with `mle-hyperopt` 🚂 [![GitHub stars](https://img.shields.io/github/stars/mle-infrastructure/mle-hyperopt.svg?style=social)](https://GitHub.com/mle-infrastructure/mle-hyperopt/stargazers/)\n",
    "\n",
    "<img src=\"https://github.com/mle-infrastructure/mle-hyperopt/blob/main/docs/mle_hyperopt_structure.png?raw=true\" alt=\"drawing\" width=\"900\"/>"
   ]
  },
  {
   "cell_type": "markdown",
   "id": "8ce5ff18-e8c2-4c9b-8dd9-0791503ca1f9",
   "metadata": {},
   "source": [
    "### Setup a grid search for different variable types"
   ]
  },
  {
   "cell_type": "code",
   "execution_count": 12,
   "id": "4471cb05-cb38-4a29-9bdc-18b4e3fb339d",
   "metadata": {},
   "outputs": [
    {
     "data": {
      "text/html": [
       "<pre style=\"white-space:pre;overflow-x:auto;line-height:normal;font-family:Menlo,'DejaVu Sans Mono',consolas,'Courier New',monospace\">         <span style=\"font-style: italic\">           MLE-Hyperopt Gird Search Hyperspace 🚀            </span>          \n",
       "                                                                                \n",
       "          <span style=\"font-weight: bold\"> 🌻 Variable </span> <span style=\"font-weight: bold\"> Type        </span> <span style=\"color: #800000; text-decoration-color: #800000; font-weight: bold\"> Search Range ↔                </span>           \n",
       "          ───────────────────────────────────────────────────────────           \n",
       "           arch          categorical  <span style=\"color: #800000; text-decoration-color: #800000\"> ['mlp', 'cnn']                </span>           \n",
       "           lrate         real         <span style=\"color: #800000; text-decoration-color: #800000\"> Begin: 0.1, End: 0.5, Bins: 5 </span>           \n",
       "           batch_size    integer      <span style=\"color: #800000; text-decoration-color: #800000\"> Begin: 1, End: 5, Bins: 5     </span>           \n",
       "                                                                                \n",
       "</pre>\n"
      ],
      "text/plain": [
       "         \u001b[3m           MLE-Hyperopt Gird Search Hyperspace 🚀            \u001b[0m          \n",
       "                                                                                \n",
       "          \u001b[1m \u001b[0m\u001b[1m🌻 Variable\u001b[0m\u001b[1m \u001b[0m \u001b[1m \u001b[0m\u001b[1mType       \u001b[0m\u001b[1m \u001b[0m \u001b[1;31m \u001b[0m\u001b[1;31mSearch Range ↔               \u001b[0m\u001b[1;31m \u001b[0m           \n",
       "          ───────────────────────────────────────────────────────────           \n",
       "           arch          categorical  \u001b[31m \u001b[0m\u001b[31m['mlp', 'cnn']               \u001b[0m\u001b[31m \u001b[0m           \n",
       "           lrate         real         \u001b[31m \u001b[0m\u001b[31mBegin: 0.1, End: 0.5, Bins: 5\u001b[0m\u001b[31m \u001b[0m           \n",
       "           batch_size    integer      \u001b[31m \u001b[0m\u001b[31mBegin: 1, End: 5, Bins: 5    \u001b[0m\u001b[31m \u001b[0m           \n",
       "                                                                                \n"
      ]
     },
     "metadata": {},
     "output_type": "display_data"
    }
   ],
   "source": [
    "from mle_hyperopt import GridSearch, RandomSearch\n",
    "\n",
    "# Instantiate random search class\n",
    "strategy = GridSearch(\n",
    "    real={\"lrate\": {\"begin\": 0.1, \"end\": 0.5, \"bins\": 5}},\n",
    "    integer={\"batch_size\": {\"begin\": 1, \"end\": 5, \"bins\": 5}},\n",
    "    categorical={\"arch\": [\"mlp\", \"cnn\"]},\n",
    "    verbose=True,\n",
    ")"
   ]
  },
  {
   "cell_type": "markdown",
   "id": "7adca5cf-228e-4157-85ef-a71f568d8ebf",
   "metadata": {},
   "source": [
    "### Ask and store two configurations locally"
   ]
  },
  {
   "cell_type": "code",
   "execution_count": 13,
   "id": "3a711155-ef31-43ab-9aee-6a5236b70f4d",
   "metadata": {},
   "outputs": [
    {
     "data": {
      "text/plain": [
       "[{'arch': 'mlp', 'batch_size': 1, 'lrate': 0.1},\n",
       " {'arch': 'mlp', 'batch_size': 1, 'lrate': 0.2}]"
      ]
     },
     "execution_count": 13,
     "metadata": {},
     "output_type": "execute_result"
    }
   ],
   "source": [
    "# Ask for configurations to evaluate & run parallel eval of seeds * configs\n",
    "configs, config_fnames = strategy.ask(2, store=True)\n",
    "configs"
   ]
  },
  {
   "cell_type": "markdown",
   "id": "8ef3d3ad-9fa4-4b7d-9f6d-058aebb7732e",
   "metadata": {},
   "source": [
    "### Evaluate two seeds for each configuration with `MLEQueue`"
   ]
  },
  {
   "cell_type": "code",
   "execution_count": 14,
   "id": "b39251d3-b25b-4962-abf5-28b143812cfb",
   "metadata": {},
   "outputs": [
    {
     "data": {
      "application/vnd.jupyter.widget-view+json": {
       "model_id": "52a2cc16da2347d7bd61fea2bf5c2c4d",
       "version_major": 2,
       "version_minor": 0
      },
      "text/plain": [
       "Output()"
      ]
     },
     "metadata": {},
     "output_type": "display_data"
    },
    {
     "data": {
      "text/html": [
       "<pre style=\"white-space:pre;overflow-x:auto;line-height:normal;font-family:Menlo,'DejaVu Sans Mono',consolas,'Courier New',monospace\">  <span style=\"color: #000080; text-decoration-color: #000080; font-weight: bold\">MLEQueue - local •</span> 4/4 Jobs <span style=\"color: #729c1f; text-decoration-color: #729c1f\">━━━━━━━━━━━━━━━━━━━━━━━━━━━</span> <span style=\"color: #800080; text-decoration-color: #800080\">100% •</span> <span style=\"color: #808000; text-decoration-color: #808000\">0:00:01</span> ⌛\n",
       "</pre>\n"
      ],
      "text/plain": [
       "  \u001b[1;34mMLEQueue - local •\u001b[0m 4/4 Jobs \u001b[38;2;114;156;31m━━━━━━━━━━━━━━━━━━━━━━━━━━━\u001b[0m \u001b[35m100% •\u001b[0m \u001b[33m0:00:01\u001b[0m ⌛\n"
      ]
     },
     "metadata": {},
     "output_type": "display_data"
    },
    {
     "data": {
      "text/html": [
       "<pre style=\"white-space:pre;overflow-x:auto;line-height:normal;font-family:Menlo,'DejaVu Sans Mono',consolas,'Courier New',monospace\">\n",
       "</pre>\n"
      ],
      "text/plain": [
       "\n"
      ]
     },
     "metadata": {},
     "output_type": "display_data"
    }
   ],
   "source": [
    "queue = MLEQueue(\n",
    "    resource_to_run=\"local\",\n",
    "    job_filename=\"train.py\",\n",
    "    config_filenames=config_fnames,\n",
    "    random_seeds=[1, 2],\n",
    "    experiment_dir=\"experiments/logs_search\",\n",
    "    automerge_configs=True\n",
    ")\n",
    "queue.run()"
   ]
  },
  {
   "cell_type": "markdown",
   "id": "04bad02f-f9fc-4ec3-8506-2b63dcf86d4a",
   "metadata": {},
   "source": [
    "### Get performance from the `meta_log` & update the strategy"
   ]
  },
  {
   "cell_type": "code",
   "execution_count": 15,
   "id": "61c8024a-2f4b-4c0b-8b48-2ff977d3c9cb",
   "metadata": {},
   "outputs": [
    {
     "data": {
      "text/html": [
       "<pre style=\"white-space:pre;overflow-x:auto;line-height:normal;font-family:Menlo,'DejaVu Sans Mono',consolas,'Courier New',monospace\">┏━━━━━━━━━━━━━━━┳━━━━┳━━━━━━━━━┳━━━━━━━━━━━━━━━━━━━━━━━━━━━━━━━━━━━━━━━━━━━━━━┓ \n",
       "┃<span style=\"font-weight: bold\"> 📥 Total: 2   </span>┃<span style=\"font-weight: bold\"> ID </span>┃<span style=\"font-weight: bold\"> Obj. 📉 </span>┃<span style=\"font-weight: bold\"> Configuration 🔖 - 12/10/2021 11:17:36       </span>┃ \n",
       "┡━━━━━━━━━━━━━━━╇━━━━╇━━━━━━━━━╇━━━━━━━━━━━━━━━━━━━━━━━━━━━━━━━━━━━━━━━━━━━━━━┩ \n",
       "│<span style=\"color: #7f7f7f; text-decoration-color: #7f7f7f\"> Best Overall  </span>│ 0  │ 1.989   │ 'arch': 'mlp', 'batch_size': 1, 'lrate': 0.1 │ \n",
       "│<span style=\"color: #7f7f7f; text-decoration-color: #7f7f7f\"> Best in Batch </span>│ 0  │ 1.989   │ 'arch': 'mlp', 'batch_size': 1, 'lrate': 0.1 │ \n",
       "└───────────────┴────┴─────────┴──────────────────────────────────────────────┘ \n",
       "</pre>\n"
      ],
      "text/plain": [
       "┏━━━━━━━━━━━━━━━┳━━━━┳━━━━━━━━━┳━━━━━━━━━━━━━━━━━━━━━━━━━━━━━━━━━━━━━━━━━━━━━━┓ \n",
       "┃\u001b[1m \u001b[0m\u001b[1m📥 Total: 2  \u001b[0m\u001b[1m \u001b[0m┃\u001b[1m \u001b[0m\u001b[1mID\u001b[0m\u001b[1m \u001b[0m┃\u001b[1m \u001b[0m\u001b[1mObj. 📉\u001b[0m\u001b[1m \u001b[0m┃\u001b[1m \u001b[0m\u001b[1mConfiguration 🔖 - 12/10/2021 11:17:36      \u001b[0m\u001b[1m \u001b[0m┃ \n",
       "┡━━━━━━━━━━━━━━━╇━━━━╇━━━━━━━━━╇━━━━━━━━━━━━━━━━━━━━━━━━━━━━━━━━━━━━━━━━━━━━━━┩ \n",
       "│\u001b[2m \u001b[0m\u001b[2mBest Overall \u001b[0m\u001b[2m \u001b[0m│ 0  │ 1.989   │ 'arch': 'mlp', 'batch_size': 1, 'lrate': 0.1 │ \n",
       "│\u001b[2m \u001b[0m\u001b[2mBest in Batch\u001b[0m\u001b[2m \u001b[0m│ 0  │ 1.989   │ 'arch': 'mlp', 'batch_size': 1, 'lrate': 0.1 │ \n",
       "└───────────────┴────┴─────────┴──────────────────────────────────────────────┘ \n"
      ]
     },
     "metadata": {},
     "output_type": "display_data"
    }
   ],
   "source": [
    "from mle_logging import load_meta_log\n",
    "meta_log = load_meta_log(\"experiments/logs_search/meta_log.hdf5\")\n",
    "test_scores = [meta_log[r].stats.test_loss.mean[-1] for r in queue.mle_run_ids]\n",
    "\n",
    "strategy.tell(configs, test_scores)"
   ]
  },
  {
   "cell_type": "markdown",
   "id": "4f8b9d43-60af-4a79-9718-85c7adb9931d",
   "metadata": {},
   "source": [
    "# Protocol your Experiments with `mle-monitor` 📺 [![GitHub stars](https://img.shields.io/github/stars/mle-infrastructure/mle-monitor.svg?style=social)](https://GitHub.com/mle-infrastructure/mle-monitor/stargazers/)\n",
    "\n",
    "<img src=\"https://github.com/mle-infrastructure/mle-monitor/blob/main/docs/mle_monitor_structure.png?raw=true\" alt=\"drawing\" width=\"900\"/>"
   ]
  },
  {
   "cell_type": "markdown",
   "id": "5d467973-c0fc-4157-9c9c-cb95fd8e9e9e",
   "metadata": {},
   "source": [
    "### Add a new experiment to the protocol database"
   ]
  },
  {
   "cell_type": "code",
   "execution_count": 16,
   "id": "4dedbe85-d6c9-458c-9183-40ab2f976ab4",
   "metadata": {},
   "outputs": [],
   "source": [
    "from mle_monitor import MLEProtocol\n",
    "\n",
    "# Load (existing) protocol database and add experiment data\n",
    "protocol_db = MLEProtocol(\"mle_protocol.db\")\n",
    "meta_data = {\n",
    "    \"purpose\": \"random search\",  # Purpose of experiment\n",
    "    \"project_name\": \"surrogate\",  # Project name of experiment\n",
    "    \"exec_resource\": \"local\",  # Resource jobs are run on\n",
    "    \"experiment_dir\": \"logs_search\",  # Experiment log storage directory\n",
    "    \"experiment_type\": \"hyperparameter-search\",  # Type of experiment to run\n",
    "    \"base_fname\": \"train.py\",  # Main code script to execute\n",
    "    \"config_fname\": \"configs/base_config_1.yaml\",  # Config file path of experiment\n",
    "    \"num_seeds\": 2,  # Number of evaluations seeds\n",
    "    \"num_total_jobs\": 4,  # Number of total jobs to run\n",
    "    \"num_jobs_per_batch\": 4,  # Number of jobs in single batch\n",
    "    \"num_job_batches\": 1,  # Number of sequential job batches\n",
    "    \"time_per_job\": \"00:00:02\",  # Expected duration: days-hours-minutes\n",
    "}\n",
    "\n",
    "new_experiment_id = protocol_db.add(meta_data)"
   ]
  },
  {
   "cell_type": "markdown",
   "id": "bd4bbe17-6cd7-40c3-8053-b9ceab15aa24",
   "metadata": {},
   "source": [
    "### Run experiment, update job counter & get test scores"
   ]
  },
  {
   "cell_type": "code",
   "execution_count": 17,
   "id": "1d72a260-7634-42de-bdf2-7fddf3dcb45e",
   "metadata": {},
   "outputs": [
    {
     "data": {
      "application/vnd.jupyter.widget-view+json": {
       "model_id": "493b3537896d4254bf251aa3da0c910a",
       "version_major": 2,
       "version_minor": 0
      },
      "text/plain": [
       "Output()"
      ]
     },
     "metadata": {},
     "output_type": "display_data"
    },
    {
     "data": {
      "text/html": [
       "<pre style=\"white-space:pre;overflow-x:auto;line-height:normal;font-family:Menlo,'DejaVu Sans Mono',consolas,'Courier New',monospace\">  <span style=\"color: #000080; text-decoration-color: #000080; font-weight: bold\">MLEQueue - local •</span> 4/4 Jobs <span style=\"color: #729c1f; text-decoration-color: #729c1f\">━━━━━━━━━━━━━━━━━━━━━━━━━━━</span> <span style=\"color: #800080; text-decoration-color: #800080\">100% •</span> <span style=\"color: #808000; text-decoration-color: #808000\">0:00:01</span> ⌛\n",
       "</pre>\n"
      ],
      "text/plain": [
       "  \u001b[1;34mMLEQueue - local •\u001b[0m 4/4 Jobs \u001b[38;2;114;156;31m━━━━━━━━━━━━━━━━━━━━━━━━━━━\u001b[0m \u001b[35m100% •\u001b[0m \u001b[33m0:00:01\u001b[0m ⌛\n"
      ]
     },
     "metadata": {},
     "output_type": "display_data"
    },
    {
     "data": {
      "text/html": [
       "<pre style=\"white-space:pre;overflow-x:auto;line-height:normal;font-family:Menlo,'DejaVu Sans Mono',consolas,'Courier New',monospace\">\n",
       "</pre>\n"
      ],
      "text/plain": [
       "\n"
      ]
     },
     "metadata": {},
     "output_type": "display_data"
    }
   ],
   "source": [
    "queue = MLEQueue(\n",
    "    resource_to_run=\"local\",\n",
    "    job_filename=\"train.py\",\n",
    "    config_filenames=config_fnames,\n",
    "    random_seeds=[1, 2],\n",
    "    experiment_dir=\"experiments/logs_protocol\",\n",
    "    protocol_db=protocol_db,\n",
    ")\n",
    "queue.run()\n",
    "\n",
    "# Merge logs of random seeds & configs -> load & get final scores\n",
    "queue.merge_configs(merge_seeds=True)\n",
    "meta_log = load_meta_log(\"experiments/logs_protocol/meta_log.hdf5\")\n",
    "test_scores = [meta_log[r].stats.test_loss.mean[-1] for r in queue.mle_run_ids]"
   ]
  },
  {
   "cell_type": "markdown",
   "id": "0669797a-b935-4520-a5a4-e702b3ff197f",
   "metadata": {},
   "source": [
    "### Update strategy and protocol"
   ]
  },
  {
   "cell_type": "code",
   "execution_count": 18,
   "id": "dc426fe1-2c92-4821-a8c7-12ac08a34558",
   "metadata": {},
   "outputs": [
    {
     "data": {
      "text/html": [
       "<pre style=\"white-space:pre;overflow-x:auto;line-height:normal;font-family:Menlo,'DejaVu Sans Mono',consolas,'Courier New',monospace\">    <span style=\"font-style: italic\">                MLE-Hyperopt Random Search Hyperspace 🚀                </span>    \n",
       "                                                                                \n",
       "     <span style=\"font-weight: bold\"> 🌻 Variable </span> <span style=\"font-weight: bold\"> Type        </span> <span style=\"color: #800000; text-decoration-color: #800000; font-weight: bold\"> Search Range ↔                           </span>     \n",
       "     ──────────────────────────────────────────────────────────────────────     \n",
       "      arch          categorical  <span style=\"color: #800000; text-decoration-color: #800000\"> ['mlp', 'cnn']                           </span>     \n",
       "      lrate         real         <span style=\"color: #800000; text-decoration-color: #800000\"> Begin: 0.1, End: 0.5, Prior: log-uniform </span>     \n",
       "      batch_size    integer      <span style=\"color: #800000; text-decoration-color: #800000\"> Begin: 1, End: 5, Prior: uniform         </span>     \n",
       "                                                                                \n",
       "</pre>\n"
      ],
      "text/plain": [
       "    \u001b[3m                MLE-Hyperopt Random Search Hyperspace 🚀                \u001b[0m    \n",
       "                                                                                \n",
       "     \u001b[1m \u001b[0m\u001b[1m🌻 Variable\u001b[0m\u001b[1m \u001b[0m \u001b[1m \u001b[0m\u001b[1mType       \u001b[0m\u001b[1m \u001b[0m \u001b[1;31m \u001b[0m\u001b[1;31mSearch Range ↔                          \u001b[0m\u001b[1;31m \u001b[0m     \n",
       "     ──────────────────────────────────────────────────────────────────────     \n",
       "      arch          categorical  \u001b[31m \u001b[0m\u001b[31m['mlp', 'cnn']                          \u001b[0m\u001b[31m \u001b[0m     \n",
       "      lrate         real         \u001b[31m \u001b[0m\u001b[31mBegin: 0.1, End: 0.5, Prior: log-uniform\u001b[0m\u001b[31m \u001b[0m     \n",
       "      batch_size    integer      \u001b[31m \u001b[0m\u001b[31mBegin: 1, End: 5, Prior: uniform        \u001b[0m\u001b[31m \u001b[0m     \n",
       "                                                                                \n"
      ]
     },
     "metadata": {},
     "output_type": "display_data"
    }
   ],
   "source": [
    "# Instantiate random search class\n",
    "strategy = RandomSearch(\n",
    "    real={\"lrate\": {\"begin\": 0.1, \"end\": 0.5, \"prior\": \"log-uniform\"}},\n",
    "    integer={\"batch_size\": {\"begin\": 1, \"end\": 5, \"prior\": \"uniform\"}},\n",
    "    categorical={\"arch\": [\"mlp\", \"cnn\"]},\n",
    "    verbose=True,\n",
    ")\n",
    "\n",
    "# Ask for configurations to evaluate & run parallel eval of seeds * configs\n",
    "configs, config_fnames = strategy.ask(2, store=True)"
   ]
  },
  {
   "cell_type": "code",
   "execution_count": 19,
   "id": "ce41314b-dd74-45a4-a067-a8e634227b49",
   "metadata": {},
   "outputs": [
    {
     "data": {
      "text/html": [
       "<pre style=\"white-space:pre;overflow-x:auto;line-height:normal;font-family:Menlo,'DejaVu Sans Mono',consolas,'Courier New',monospace\">┏━━━━━━━━━━━━━━━┳━━━━┳━━━━━━━━━┳━━━━━━━━━━━━━━━━━━━━━━━━━━━━━━━━━━━━━━━━━━━━━━━┓\n",
       "┃<span style=\"font-weight: bold\"> 📥 Total: 2   </span>┃<span style=\"font-weight: bold\"> ID </span>┃<span style=\"font-weight: bold\"> Obj. 📉 </span>┃<span style=\"font-weight: bold\"> Configuration 🔖 - 12/10/2021 11:17:46        </span>┃\n",
       "┡━━━━━━━━━━━━━━━╇━━━━╇━━━━━━━━━╇━━━━━━━━━━━━━━━━━━━━━━━━━━━━━━━━━━━━━━━━━━━━━━━┩\n",
       "│<span style=\"color: #7f7f7f; text-decoration-color: #7f7f7f\"> Best Overall  </span>│ 1  │ 1.987   │ 'arch': 'cnn', 'lrate': 0.26208630215377515,  │\n",
       "│               │    │         │ 'batch_size': 2                               │\n",
       "│<span style=\"color: #7f7f7f; text-decoration-color: #7f7f7f\"> Best in Batch </span>│ 1  │ 1.987   │ 'arch': 'cnn', 'lrate': 0.26208630215377515,  │\n",
       "│               │    │         │ 'batch_size': 2                               │\n",
       "└───────────────┴────┴─────────┴───────────────────────────────────────────────┘\n",
       "</pre>\n"
      ],
      "text/plain": [
       "┏━━━━━━━━━━━━━━━┳━━━━┳━━━━━━━━━┳━━━━━━━━━━━━━━━━━━━━━━━━━━━━━━━━━━━━━━━━━━━━━━━┓\n",
       "┃\u001b[1m \u001b[0m\u001b[1m📥 Total: 2  \u001b[0m\u001b[1m \u001b[0m┃\u001b[1m \u001b[0m\u001b[1mID\u001b[0m\u001b[1m \u001b[0m┃\u001b[1m \u001b[0m\u001b[1mObj. 📉\u001b[0m\u001b[1m \u001b[0m┃\u001b[1m \u001b[0m\u001b[1mConfiguration 🔖 - 12/10/2021 11:17:46       \u001b[0m\u001b[1m \u001b[0m┃\n",
       "┡━━━━━━━━━━━━━━━╇━━━━╇━━━━━━━━━╇━━━━━━━━━━━━━━━━━━━━━━━━━━━━━━━━━━━━━━━━━━━━━━━┩\n",
       "│\u001b[2m \u001b[0m\u001b[2mBest Overall \u001b[0m\u001b[2m \u001b[0m│ 1  │ 1.987   │ 'arch': 'cnn', 'lrate': 0.26208630215377515,  │\n",
       "│               │    │         │ 'batch_size': 2                               │\n",
       "│\u001b[2m \u001b[0m\u001b[2mBest in Batch\u001b[0m\u001b[2m \u001b[0m│ 1  │ 1.987   │ 'arch': 'cnn', 'lrate': 0.26208630215377515,  │\n",
       "│               │    │         │ 'batch_size': 2                               │\n",
       "└───────────────┴────┴─────────┴───────────────────────────────────────────────┘\n"
      ]
     },
     "metadata": {},
     "output_type": "display_data"
    }
   ],
   "source": [
    "# Update the hyperparameter search strategy\n",
    "strategy.tell(configs, test_scores)\n",
    "\n",
    "# Wrap up experiment (store completion time, etc.)\n",
    "protocol_db.complete(new_experiment_id)"
   ]
  },
  {
   "cell_type": "markdown",
   "id": "d7418d59-88cf-4508-9893-63696e65c39a",
   "metadata": {},
   "source": [
    "# Putting it all together with `mle-toolbox` 🛠 [![GitHub stars](https://img.shields.io/github/stars/mle-infrastructure/mle-toolbox.svg?style=social)](https://GitHub.com/mle-infrastructure/mle-toolbox/stargazers/)\n",
    "\n",
    "<img src=\"https://github.com/mle-infrastructure/mle-tutorial/blob/main/docs/mle_toolbox_structure.png?raw=true\" alt=\"drawing\" width=\"900\"/>"
   ]
  },
  {
   "cell_type": "markdown",
   "id": "77bb03ae-9632-4c76-904c-1d1e0e76afc9",
   "metadata": {},
   "source": [
    "### Run experiment with `mle run` from command line"
   ]
  },
  {
   "cell_type": "code",
   "execution_count": 23,
   "id": "62b83af2-1704-410f-81dd-f40c1ea697f6",
   "metadata": {},
   "outputs": [
    {
     "name": "stdout",
     "output_type": "stream",
     "text": [
      "Could not load mle-toolbox configuration .toml from ~/mle_config.toml \n",
      "Proceed with minimal config used for testing.\n",
      "\u001b[37;44m╭─────────────────────────────────────────────────────────────────────────────────────╮\u001b[0m\n",
      "\u001b[37;44m│\u001b[0m\u001b[37;44m \u001b[0m\u001b[37;44m    __  _____    ______   ______            ____              \u001b[0m\u001b[37;44m  10/12/2021 11:35:12\u001b[0m\u001b[37;44m \u001b[0m\u001b[37;44m│\u001b[0m\n",
      "\u001b[37;44m│\u001b[0m\u001b[37;44m \u001b[0m\u001b[37;44m   /  |/  / /   / ____/  /_  __/___  ____  / / /_  ____  _  __\u001b[0m\u001b[37;44m  You are awesome! \u001b[0m\u001b[37;44m🤗\u001b[0m\u001b[37;44m \u001b[0m\u001b[37;44m│\u001b[0m\n",
      "\u001b[37;44m│\u001b[0m\u001b[37;44m \u001b[0m\u001b[37;44m  / /|_/ / /   / __/______/ / / __ \\/ __ \\/ / __ \\/ __ \\| |/_/\u001b[0m\u001b[37;44m     @RobertTLange 🐦\u001b[0m\u001b[37;44m \u001b[0m\u001b[37;44m│\u001b[0m\n",
      "\u001b[37;44m│\u001b[0m\u001b[37;44m \u001b[0m\u001b[37;44m / /  / / /___/ /__/_____/ / / /_/ / /_/ / / /_/ / /_/ />  <  \u001b[0m\u001b[37;44m  MLE-Toolbox Docs \u001b[0m\u001b[37;44m📓\u001b[0m\u001b[37;44m \u001b[0m\u001b[37;44m│\u001b[0m\n",
      "\u001b[37;44m│\u001b[0m\u001b[37;44m \u001b[0m\u001b[37;44m/_/  /_/_____/_____/    /_/  \\____/\\____/_/_.___/\\____/_/|_|  \u001b[0m\u001b[37;44m  MLE-Toolbox Repo \u001b[0m\u001b[37;44m📝\u001b[0m\u001b[37;44m \u001b[0m\u001b[37;44m│\u001b[0m\n",
      "\u001b[37;44m╰─────────────────────────────────────────────────────────────────────────────────────╯\u001b[0m\n",
      "12/10/2021 11:35:12 AM Loaded configuration: configs/grid_search.yaml\n",
      "12/10/2021 11:35:12 AM Run on resource: local\n",
      "\u001b[34m                                                                                \u001b[0m\n",
      "\u001b[34m \u001b[0m\u001b[1;34m \u001b[0m\u001b[1;34m🔖\u001b[0m\u001b[1;34m \u001b[0m\u001b[34m \u001b[0m\u001b[1;34m \u001b[0m\u001b[1;34m🆔\u001b[0m\u001b[1;34m \u001b[0m\u001b[34m \u001b[0m\u001b[1;34m \u001b[0m\u001b[1;34m  🗓  \u001b[0m\u001b[1;34m \u001b[0m\u001b[34m \u001b[0m\u001b[1;34m \u001b[0m\u001b[1;34mProject \u001b[0m\u001b[1;34m \u001b[0m\u001b[34m \u001b[0m\u001b[1;34m \u001b[0m\u001b[1;34mPurpose       \u001b[0m\u001b[1;34m \u001b[0m\u001b[34m \u001b[0m\u001b[1;34m \u001b[0m\u001b[1;34mType  \u001b[0m\u001b[1;34m \u001b[0m\u001b[34m \u001b[0m\u001b[1;34m \u001b[0m\u001b[1;34m  \u001b[0m\u001b[1;33m▶\u001b[0m\u001b[1;34m  \u001b[0m\u001b[1;34m \u001b[0m\u001b[34m \u001b[0m\u001b[1;34m \u001b[0m\u001b[1;33m♻\u001b[0m\u001b[1;34m \u001b[0m\u001b[34m \u001b[0m\u001b[1;34m \u001b[0m\u001b[1;34mCPU\u001b[0m\u001b[1;34m \u001b[0m\u001b[34m \u001b[0m\u001b[1;34m \u001b[0m\u001b[1;34mGPU\u001b[0m\u001b[1;34m \u001b[0m\u001b[34m \u001b[0m\n",
      "\u001b[34m ────────────────────────────────────────────────────────────────────────────── \u001b[0m\n",
      "\u001b[34m \u001b[0m \u001b[35m⠏ \u001b[0m \u001b[34m \u001b[0m 22 \u001b[34m \u001b[0m 12/10 \u001b[34m \u001b[0m examples \u001b[34m \u001b[0m Grid Search    \u001b[34m \u001b[0m search \u001b[34m \u001b[0m Local \u001b[34m \u001b[0m 1 \u001b[34m \u001b[0m  2  \u001b[34m \u001b[0m  0  \u001b[34m \u001b[0m\n",
      "\u001b[34m \u001b[0m \u001b[32m✔\u001b[0m  \u001b[34m \u001b[0m 21 \u001b[34m \u001b[0m 12/10 \u001b[34m \u001b[0m examples \u001b[34m \u001b[0m Grid Search    \u001b[34m \u001b[0m search \u001b[34m \u001b[0m Local \u001b[34m \u001b[0m 1 \u001b[34m \u001b[0m  2  \u001b[34m \u001b[0m  0  \u001b[34m \u001b[0m\n",
      "\u001b[34m \u001b[0m \u001b[35m⠏ \u001b[0m \u001b[34m \u001b[0m 20 \u001b[34m \u001b[0m 12/10 \u001b[34m \u001b[0m examples \u001b[34m \u001b[0m Grid Search    \u001b[34m \u001b[0m search \u001b[34m \u001b[0m Local \u001b[34m \u001b[0m 1 \u001b[34m \u001b[0m  2  \u001b[34m \u001b[0m  0  \u001b[34m \u001b[0m\n",
      "\u001b[34m \u001b[0m \u001b[32m✔\u001b[0m  \u001b[34m \u001b[0m 19 \u001b[34m \u001b[0m 12/08 \u001b[34m \u001b[0m examples \u001b[34m \u001b[0m Arch SMBO opt  \u001b[34m \u001b[0m search \u001b[34m \u001b[0m  SGE  \u001b[34m \u001b[0m 1 \u001b[34m \u001b[0m  2  \u001b[34m \u001b[0m  0  \u001b[34m \u001b[0m\n",
      "\u001b[34m \u001b[0m \u001b[32m✔\u001b[0m  \u001b[34m \u001b[0m 18 \u001b[34m \u001b[0m 12/08 \u001b[34m \u001b[0m examples \u001b[34m \u001b[0m BS/Wdecay grid \u001b[34m \u001b[0m search \u001b[34m \u001b[0m  SGE  \u001b[34m \u001b[0m 1 \u001b[34m \u001b[0m  2  \u001b[34m \u001b[0m  0  \u001b[34m \u001b[0m\n",
      "\u001b[34m \u001b[0m \u001b[32m✔\u001b[0m  \u001b[34m \u001b[0m 17 \u001b[34m \u001b[0m 12/08 \u001b[34m \u001b[0m examples \u001b[34m \u001b[0m Lrate grid     \u001b[34m \u001b[0m search \u001b[34m \u001b[0m  SGE  \u001b[34m \u001b[0m 1 \u001b[34m \u001b[0m  2  \u001b[34m \u001b[0m  0  \u001b[34m \u001b[0m\n",
      "\u001b[34m \u001b[0m \u001b[31m✖\u001b[0m  \u001b[34m \u001b[0m 16 \u001b[34m \u001b[0m 12/08 \u001b[34m \u001b[0m examples \u001b[34m \u001b[0m Grid Search    \u001b[34m \u001b[0m search \u001b[34m \u001b[0m Local \u001b[34m \u001b[0m 1 \u001b[34m \u001b[0m  2  \u001b[34m \u001b[0m  0  \u001b[34m \u001b[0m\n",
      "\u001b[34m \u001b[0m \u001b[31m✖\u001b[0m  \u001b[34m \u001b[0m 15 \u001b[34m \u001b[0m 12/08 \u001b[34m \u001b[0m examples \u001b[34m \u001b[0m Grid Search    \u001b[34m \u001b[0m search \u001b[34m \u001b[0m Local \u001b[34m \u001b[0m 1 \u001b[34m \u001b[0m  2  \u001b[34m \u001b[0m  0  \u001b[34m \u001b[0m\n",
      "\u001b[34m \u001b[0m \u001b[32m✔\u001b[0m  \u001b[34m \u001b[0m 14 \u001b[34m \u001b[0m 12/08 \u001b[34m \u001b[0m examples \u001b[34m \u001b[0m Grid lrate/bs  \u001b[34m \u001b[0m search \u001b[34m \u001b[0m Local \u001b[34m \u001b[0m 1 \u001b[34m \u001b[0m  2  \u001b[34m \u001b[0m  0  \u001b[34m \u001b[0m\n",
      "\u001b[34m \u001b[0m \u001b[32m✔\u001b[0m  \u001b[34m \u001b[0m 13 \u001b[34m \u001b[0m 12/08 \u001b[34m \u001b[0m examples \u001b[34m \u001b[0m Grid search    \u001b[34m \u001b[0m search \u001b[34m \u001b[0m  SGE  \u001b[34m \u001b[0m 1 \u001b[34m \u001b[0m  2  \u001b[34m \u001b[0m  0  \u001b[34m \u001b[0m\n",
      "\u001b[34m                                                                                \u001b[0m\n",
      "12/10/2021 11:35:13 AM Updated protocol - STARTING: 23\n",
      "==================================  RUN EXPERIMENT  =================================\n",
      "12/10/2021 11:35:13 AM Log Init: experiments/search_grid/hyper_log.pkl\n",
      "12/10/2021 11:35:13 AM Scoring: final | Max: False | Seeds: p50\n",
      "12/10/2021 11:35:13 AM Metrics: ['test_loss']\n",
      "===========================  HYPEROPT LOGGER INITIALIZED  ===========================\n",
      "12/10/2021 11:35:13 AM Hyperoptimisation (async - grid) Run - Range of Parameters:\n",
      "\n",
      "           \u001b[3m         MLE-Hyperopt Gird Search Hyperspace 🚀          \u001b[0m            \n",
      "                                                                                \n",
      "            \u001b[1m \u001b[0m\u001b[1m🌻 Variable\u001b[0m\u001b[1m \u001b[0m \u001b[1m \u001b[0m\u001b[1mType   \u001b[0m\u001b[1m \u001b[0m \u001b[1;31m \u001b[0m\u001b[1;31mSearch Range ↔               \u001b[0m\u001b[1;31m \u001b[0m             \n",
      "            ───────────────────────────────────────────────────────             \n",
      "             lrate         real     \u001b[31m \u001b[0m\u001b[31mBegin: 0.1, End: 0.5, Bins: 2\u001b[0m\u001b[31m \u001b[0m             \n",
      "             batch_size    integer  \u001b[31m \u001b[0m\u001b[31mBegin: 1, End: 5, Bins: 2    \u001b[0m\u001b[31m \u001b[0m             \n",
      "                                                                                \n",
      "12/10/2021 11:35:13 AM Total Search Evals: 4 | Running Job Limit: 4 | Seeds/Eval: 1\n",
      "===============================  START HYPEROPT RUNS  ===============================\n",
      "12/10/2021 11:35:13 AM START - 4 Eval Configs - 4 Jobs at a Time - 1 Seeds\n",
      "\u001b[2K  \u001b[1;34mMLEQueue - local •\u001b[0m 4/4 Jobs \u001b[38;2;114;156;31m━━━━━━━━━━━━━━━━━━━━━━━━━━━\u001b[0m \u001b[35m100% •\u001b[0m \u001b[33m0:00:01\u001b[0m ⌛5% •\u001b[0m \u001b[33m0:00:01\u001b[0m ⌛0:00:01\u001b[0m ⌛\n",
      "\u001b[?25h12/10/2021 11:35:15 AM DONE - 4 Eval Configs - 4 Jobs at a Time - 1 Seeds\n",
      "12/10/2021 11:35:15 AM MERGE - 4 Eval Configs of Hyperparameters - 1 Seeds\n",
      "------------------------------------  test_loss  ------------------------------------\n",
      "12/10/2021 11:35:15 AM METRIC: test_loss|BEST SCORE: 1.22|ITER: 3/4|PARAMS:\n",
      "12/10/2021 11:35:15 AM {'batch_size': 5, 'lrate': 0.1}\n",
      "=========================  COMPLETED QUEUE CLEAN-UP 4 EVALS  ========================\n",
      "12/10/2021 11:35:15 AM Updated protocol - COMPLETED: 23\n",
      "===============================  EXPERIMENT FINISHED  ===============================\n"
     ]
    }
   ],
   "source": [
    "!mle run configs/grid_search.yaml --purpose Grid Search"
   ]
  },
  {
   "cell_type": "markdown",
   "id": "d330284e-3b86-4365-bd43-ea551c1ffc2b",
   "metadata": {},
   "source": [
    "### Load in results & analyze"
   ]
  },
  {
   "cell_type": "code",
   "execution_count": 24,
   "id": "4bc9825d-f07d-4ce5-943c-6823f07e944d",
   "metadata": {},
   "outputs": [],
   "source": [
    "from mle_toolbox import load_result_logs\n",
    "\n",
    "meta_log, hyper_log = load_result_logs(\"experiments/search_grid\")"
   ]
  },
  {
   "cell_type": "code",
   "execution_count": 31,
   "id": "8d35cf95-d3d2-4278-b6f4-8b6dd17b1022",
   "metadata": {},
   "outputs": [
    {
     "data": {
      "text/plain": [
       "['b_0_eval_0', 'b_0_eval_1', 'b_0_eval_2', 'b_0_eval_3']"
      ]
     },
     "execution_count": 31,
     "metadata": {},
     "output_type": "execute_result"
    }
   ],
   "source": [
    "meta_log.eval_ids"
   ]
  },
  {
   "cell_type": "code",
   "execution_count": 32,
   "id": "4352577d-e9ab-4fbc-b18a-027c0cae80d5",
   "metadata": {},
   "outputs": [
    {
     "data": {
      "text/plain": [
       "DotMap(meta=DotMap(config_dict={'arch': 'mlp', 'batch_size': 1, 'lrate': 0.1}, config_fname='experiments/search_grid/b_0_eval_0/b_0_eval_0.yaml', eval_id='b_0_eval_0', experiment_dir='experiments/search_grid/b_0_eval_0', log_paths='experiments/search_grid/b_0_eval_0/logs/log_seed_2.hdf5', model_type='no-model-type', seeds=2), stats=DotMap(test_loss=DotMap(mean=masked_array(data=[20.077774047851562, 10.049779891967773,\n",
       "                   6.759619235992432, 5.028787136077881,\n",
       "                   4.006852149963379, 3.340862512588501,\n",
       "                   2.859586238861084, 2.5317704677581787,\n",
       "                   2.2350058555603027, 2.0128211975097656],\n",
       "             mask=[False, False, False, False, False, False, False, False,\n",
       "                   False, False],\n",
       "       fill_value=1e+20), std=masked_array(data=[0.0, 0.0, 0.0, 0.0, 0.0, 0.0, 0.0, 0.0, 0.0, 0.0],\n",
       "             mask=[False, False, False, False, False, False, False, False,\n",
       "                   False, False],\n",
       "       fill_value=1e+20), p50=array([20.07777405, 10.04977989,  6.75961924,  5.02878714,  4.00685215,\n",
       "        3.34086251,  2.85958624,  2.53177047,  2.23500586,  2.0128212 ]), p10=array([20.07777405, 10.04977989,  6.75961924,  5.02878714,  4.00685215,\n",
       "        3.34086251,  2.85958624,  2.53177047,  2.23500586,  2.0128212 ]), p25=array([20.07777405, 10.04977989,  6.75961924,  5.02878714,  4.00685215,\n",
       "        3.34086251,  2.85958624,  2.53177047,  2.23500586,  2.0128212 ]), p75=array([20.07777405, 10.04977989,  6.75961924,  5.02878714,  4.00685215,\n",
       "        3.34086251,  2.85958624,  2.53177047,  2.23500586,  2.0128212 ]), p90=array([20.07777405, 10.04977989,  6.75961924,  5.02878714,  4.00685215,\n",
       "        3.34086251,  2.85958624,  2.53177047,  2.23500586,  2.0128212 ])), train_loss=DotMap(mean=masked_array(data=[20.010000228881836, 10.005000114440918,\n",
       "                   6.670000076293945, 5.002500057220459,\n",
       "                   4.001999855041504, 3.3350000381469727,\n",
       "                   2.8585715293884277, 2.5012500286102295,\n",
       "                   2.2233333587646484, 2.000999927520752],\n",
       "             mask=[False, False, False, False, False, False, False, False,\n",
       "                   False, False],\n",
       "       fill_value=1e+20), std=masked_array(data=[0.0, 0.0, 0.0, 0.0, 0.0, 0.0, 0.0, 0.0, 0.0, 0.0],\n",
       "             mask=[False, False, False, False, False, False, False, False,\n",
       "                   False, False],\n",
       "       fill_value=1e+20), p50=array([20.01000023, 10.00500011,  6.67000008,  5.00250006,  4.00199986,\n",
       "        3.33500004,  2.85857153,  2.50125003,  2.22333336,  2.00099993]), p10=array([20.01000023, 10.00500011,  6.67000008,  5.00250006,  4.00199986,\n",
       "        3.33500004,  2.85857153,  2.50125003,  2.22333336,  2.00099993]), p25=array([20.01000023, 10.00500011,  6.67000008,  5.00250006,  4.00199986,\n",
       "        3.33500004,  2.85857153,  2.50125003,  2.22333336,  2.00099993]), p75=array([20.01000023, 10.00500011,  6.67000008,  5.00250006,  4.00199986,\n",
       "        3.33500004,  2.85857153,  2.50125003,  2.22333336,  2.00099993]), p90=array([20.01000023, 10.00500011,  6.67000008,  5.00250006,  4.00199986,\n",
       "        3.33500004,  2.85857153,  2.50125003,  2.22333336,  2.00099993]))), time=DotMap(num_epochs=array([ 1.,  2.,  3.,  4.,  5.,  6.,  7.,  8.,  9., 10.], dtype=float32), time=array([b'21-12-10/11:35', b'21-12-10/11:35', b'21-12-10/11:35',\n",
       "       b'21-12-10/11:35', b'21-12-10/11:35', b'21-12-10/11:35',\n",
       "       b'21-12-10/11:35', b'21-12-10/11:35', b'21-12-10/11:35',\n",
       "       b'21-12-10/11:35'], dtype='|S5000'), time_elapsed=array([0.00060892, 0.01447082, 0.02158403, 0.02860498, 0.03619981,\n",
       "       0.04624414, 0.05413699, 0.1150651 , 0.15375304, 0.16449094],\n",
       "      dtype=float32)))"
      ]
     },
     "execution_count": 32,
     "metadata": {},
     "output_type": "execute_result"
    }
   ],
   "source": [
    "meta_log.b_0_eval_0"
   ]
  },
  {
   "cell_type": "code",
   "execution_count": 25,
   "id": "972183a8-9dc4-45d3-b765-6527823939bc",
   "metadata": {},
   "outputs": [
    {
     "data": {
      "text/plain": [
       "   batch_size  lrate  time_elapsed      run_id  test_loss                                          log_paths                      experiment_dir                                       config_fname  seeds     model_type                                          log_fname\n",
       "0           1    0.1      2.714674  b_0_eval_0   2.012821  experiments/search_grid/b_0_eval_0/logs/log_se...  experiments/search_grid/b_0_eval_0  experiments/search_grid/b_0_eval_0/b_0_eval_0....      2  no-model-type  experiments/search_grid/b_0_eval_0/logs/b_0_ev...\n",
       "1           1    0.5      2.714674  b_0_eval_1   2.035030  experiments/search_grid/b_0_eval_1/logs/log_se...  experiments/search_grid/b_0_eval_1  experiments/search_grid/b_0_eval_1/b_0_eval_1....      2  no-model-type  experiments/search_grid/b_0_eval_1/logs/b_0_ev...\n",
       "2           5    0.1      2.714674  b_0_eval_2   1.222322  experiments/search_grid/b_0_eval_2/logs/log_se...  experiments/search_grid/b_0_eval_2  experiments/search_grid/b_0_eval_2/b_0_eval_2....      2  no-model-type  experiments/search_grid/b_0_eval_2/logs/b_0_ev...\n",
       "3           5    0.5      2.714674  b_0_eval_3   1.238122  experiments/search_grid/b_0_eval_3/logs/log_se...  experiments/search_grid/b_0_eval_3  experiments/search_grid/b_0_eval_3/b_0_eval_3....      2  no-model-type  experiments/search_grid/b_0_eval_3/logs/b_0_ev..."
      ]
     },
     "execution_count": 25,
     "metadata": {},
     "output_type": "execute_result"
    }
   ],
   "source": [
    "hyper_log"
   ]
  },
  {
   "cell_type": "code",
   "execution_count": 34,
   "id": "cd243f74-7cc2-4f9e-98b9-a70db663cf24",
   "metadata": {},
   "outputs": [
    {
     "data": {
      "image/png": "[encoded data removed]",
      "text/plain": [
       "<Figure size 648x432 with 1 Axes>"
      ]
     },
     "metadata": {},
     "output_type": "display_data"
    }
   ],
   "source": [
    "hyper_log.plot_1D_bar(\"batch_size\", \"test_loss\",\n",
    "                      fixed_params={\"lrate\": 0.1})"
   ]
  },
  {
   "cell_type": "code",
   "execution_count": 29,
   "id": "0f1e9ec9-bb42-4f6a-bc38-512c8daeb3dc",
   "metadata": {},
   "outputs": [
    {
     "data": {
      "image/png": "[encoded data removed]",
      "text/plain": [
       "<Figure size 720x576 with 2 Axes>"
      ]
     },
     "metadata": {},
     "output_type": "display_data"
    }
   ],
   "source": [
    "hyper_log.plot_2D_heat(var_names=[\"batch_size\", \"lrate\"],\n",
    "                       metric_name=\"test_loss\")"
   ]
  }
 ],
 "metadata": {
  "kernelspec": {
   "display_name": "Python3 (mle-toolbox)",
   "language": "python",
   "name": "mle-toolbox"
  },
  "language_info": {
   "codemirror_mode": {
    "name": "ipython",
    "version": 3
   },
   "file_extension": ".py",
   "mimetype": "text/x-python",
   "name": "python",
   "nbconvert_exporter": "python",
   "pygments_lexer": "ipython3",
   "version": "3.9.6"
  }
 },
 "nbformat": 4,
 "nbformat_minor": 5
}
