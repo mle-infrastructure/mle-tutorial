{
 "cells": [
  {
   "cell_type": "markdown",
   "id": "6d98134b-4c41-406b-a8ad-9bd9d67b1183",
   "metadata": {},
   "source": [
    "# Welcome to the MLE-Infrastructure 🤗"
   ]
  },
  {
   "cell_type": "code",
   "execution_count": 1,
   "id": "48be33e8-a67c-4cdc-aab7-746177c63e8a",
   "metadata": {},
   "outputs": [],
   "source": [
    "!pip -q install mle-toolbox\n",
    "\n",
    "# Check if code is run in Colab: If so -- download configs from repo\n",
    "try:\n",
    "    import google.colab\n",
    "    IN_COLAB = True\n",
    "    !git clone https://github.com/mle-infrastructure/mle-tutorial\n",
    "    !cd mle-tutorial\n",
    "    !ls\n",
    "except:\n",
    "    IN_COLAB = False"
   ]
  },
  {
   "cell_type": "markdown",
   "id": "30263652-3e80-4622-9245-1ce84beb25f2",
   "metadata": {},
   "source": [
    "# Log your Experiments with `mle-logging`"
   ]
  },
  {
   "cell_type": "code",
   "execution_count": 2,
   "id": "6f07341e-f727-4049-b092-45bfc00f102c",
   "metadata": {},
   "outputs": [],
   "source": [
    "from mle_logging import MLELogger\n",
    "\n",
    "def train_your_net(epoch: int, seed_id: int, lrate: float, batch_size: int, arch: str):\n",
    "    \"\"\"Optimum: lrate=0.2, batch_size=4, arch='conv'.\"\"\"\n",
    "    import random\n",
    "    f1 = (lrate - 0.2) ** 2 + (batch_size - 4) ** 2 + (0 if arch == \"conv\" else 10)\n",
    "    train_loss = f1 + seed_id * 0.5\n",
    "    test_loss = f1 + seed_id * 0.5 + random.uniform(0, 0.3)\n",
    "    return train_loss / epoch, test_loss / epoch"
   ]
  },
  {
   "cell_type": "code",
   "execution_count": 3,
   "id": "836cd05a-7c04-4e81-9b80-1fd6a5b45660",
   "metadata": {},
   "outputs": [],
   "source": [
    "from mle_logging.utils import load_yaml_config\n",
    "\n",
    "train_config = {\"lrate\": 0.2,\n",
    "                \"batch_size\": 4,\n",
    "                \"arch\": \"mlp\"}\n",
    "\n",
    "config_fname = \"configs/base_config_1.yaml\"\n",
    "train_config = load_yaml_config(config_fname)"
   ]
  },
  {
   "cell_type": "code",
   "execution_count": 4,
   "id": "d0150379-210b-4a40-a4c7-5ee3825971a2",
   "metadata": {},
   "outputs": [
    {
     "data": {
      "text/html": [
       "<pre style=\"white-space:pre;overflow-x:auto;line-height:normal;font-family:Menlo,'DejaVu Sans Mono',consolas,'Courier New',monospace\"><span style=\"color: #c0c0c0; text-decoration-color: #c0c0c0; background-color: #000080\">╭──────────────────────────────────────────────────────────────────────────────╮</span>\n",
       "<span style=\"color: #c0c0c0; text-decoration-color: #c0c0c0; background-color: #000080\">│  __    __  __      ______  __      ______  ______          08/12/21 20:10:57 │</span>\n",
       "<span style=\"color: #c0c0c0; text-decoration-color: #c0c0c0; background-color: #000080\">│ /\\ \"-./  \\/\\ \\    /\\  ___\\/\\ \\    /\\  __ \\/\\  ___\\          Logger v0.0.4 🔏 │</span>\n",
       "<span style=\"color: #c0c0c0; text-decoration-color: #c0c0c0; background-color: #000080\">│ \\ \\ \\-./\\ \\ \\ \\___\\ \\  __\\  \\ \\___\\ \\ \\/\\ \\ \\ \\__ \\         </span><a href=\"https://twitter.com/RobertTLange\"><span style=\"color: #c0c0c0; text-decoration-color: #c0c0c0; background-color: #000080\">@RobertTLange</span></a><span style=\"color: #c0c0c0; text-decoration-color: #c0c0c0; background-color: #000080\"> 🐦 │</span>\n",
       "<span style=\"color: #c0c0c0; text-decoration-color: #c0c0c0; background-color: #000080\">│  \\ \\_\\ \\ \\_\\ \\_____\\ \\_____\\ \\_____\\ \\_____\\ \\_____\\         </span><a href=\"https://github.com/RobertTLange/mle-logging/blob/main/examples/getting_started.ipynb\"><span style=\"color: #c0c0c0; text-decoration-color: #c0c0c0; background-color: #000080\">MLE-Log Docs</span></a><span style=\"color: #c0c0c0; text-decoration-color: #c0c0c0; background-color: #000080\"> </span><span style=\"color: #c0c0c0; text-decoration-color: #c0c0c0; background-color: #000080\">📓</span><span style=\"color: #c0c0c0; text-decoration-color: #c0c0c0; background-color: #000080\"> │</span>\n",
       "<span style=\"color: #c0c0c0; text-decoration-color: #c0c0c0; background-color: #000080\">│   \\/_/  \\/_/\\/_____/\\/_____/\\/_____/\\/_____/\\/_____/         </span><a href=\"https://github.com/RobertTLange/mle-logging/\"><span style=\"color: #c0c0c0; text-decoration-color: #c0c0c0; background-color: #000080\">MLE-Log Repo</span></a><span style=\"color: #c0c0c0; text-decoration-color: #c0c0c0; background-color: #000080\"> </span><span style=\"color: #c0c0c0; text-decoration-color: #c0c0c0; background-color: #000080\">📝</span><span style=\"color: #c0c0c0; text-decoration-color: #c0c0c0; background-color: #000080\"> │</span>\n",
       "<span style=\"color: #c0c0c0; text-decoration-color: #c0c0c0; background-color: #000080\">╰──────────────────────────────────────────────────────────────────────────────╯</span>\n",
       "</pre>\n"
      ],
      "text/plain": [
       "\u001b[37;44m╭──────────────────────────────────────────────────────────────────────────────╮\u001b[0m\n",
       "\u001b[37;44m│\u001b[0m\u001b[37;44m \u001b[0m\u001b[37;44m __    __  __      ______  __      ______  ______        \u001b[0m\u001b[37;44m  08/12/21 20:10:57\u001b[0m\u001b[37;44m \u001b[0m\u001b[37;44m│\u001b[0m\n",
       "\u001b[37;44m│\u001b[0m\u001b[37;44m \u001b[0m\u001b[37;44m/\\ \"-./  \\/\\ \\    /\\  ___\\/\\ \\    /\\  __ \\/\\  ___\\       \u001b[0m\u001b[37;44m   Logger v0.0.4 🔏\u001b[0m\u001b[37;44m \u001b[0m\u001b[37;44m│\u001b[0m\n",
       "\u001b[37;44m│\u001b[0m\u001b[37;44m \u001b[0m\u001b[37;44m\\ \\ \\-./\\ \\ \\ \\___\\ \\  __\\  \\ \\___\\ \\ \\/\\ \\ \\ \\__ \\      \u001b[0m\u001b[37;44m   \u001b[0m\u001b]8;id=939542;https://twitter.com/RobertTLange\u001b\\\u001b[37;44m@RobertTLange\u001b[0m\u001b]8;;\u001b\\\u001b[37;44m 🐦\u001b[0m\u001b[37;44m \u001b[0m\u001b[37;44m│\u001b[0m\n",
       "\u001b[37;44m│\u001b[0m\u001b[37;44m \u001b[0m\u001b[37;44m \\ \\_\\ \\ \\_\\ \\_____\\ \\_____\\ \\_____\\ \\_____\\ \\_____\\     \u001b[0m\u001b[37;44m    \u001b[0m\u001b]8;id=173167;https://github.com/RobertTLange/mle-logging/blob/main/examples/getting_started.ipynb\u001b\\\u001b[37;44mMLE-Log Docs\u001b[0m\u001b]8;;\u001b\\\u001b[37;44m \u001b[0m\u001b[37;44m📓\u001b[0m\u001b[37;44m \u001b[0m\u001b[37;44m│\u001b[0m\n",
       "\u001b[37;44m│\u001b[0m\u001b[37;44m \u001b[0m\u001b[37;44m  \\/_/  \\/_/\\/_____/\\/_____/\\/_____/\\/_____/\\/_____/     \u001b[0m\u001b[37;44m    \u001b[0m\u001b]8;id=731957;https://github.com/RobertTLange/mle-logging/\u001b\\\u001b[37;44mMLE-Log Repo\u001b[0m\u001b]8;;\u001b\\\u001b[37;44m \u001b[0m\u001b[37;44m📝\u001b[0m\u001b[37;44m \u001b[0m\u001b[37;44m│\u001b[0m\n",
       "\u001b[37;44m╰──────────────────────────────────────────────────────────────────────────────╯\u001b[0m\n"
      ]
     },
     "metadata": {},
     "output_type": "display_data"
    },
    {
     "data": {
      "text/html": [
       "<pre style=\"white-space:pre;overflow-x:auto;line-height:normal;font-family:Menlo,'DejaVu Sans Mono',consolas,'Courier New',monospace\">╭──────────────────────────────────────────────────────────────────────────────╮\n",
       "│ ╭────────────────────────────────────╮╭────────────────────────────────────╮ │\n",
       "│ │ <span style=\"font-weight: bold\">📖 Log Dir</span>:                        ││ <span style=\"font-weight: bold\">📄 Config</span>:                         │ │\n",
       "│ │ experiments/log_logging/base_conf… ││ configs/base_config_1.yaml         │ │\n",
       "│ ╰────────────────────────────────────╯╰────────────────────────────────────╯ │\n",
       "│ ╭────────────────────────────────────╮╭────────────────────────────────────╮ │\n",
       "│ │ <span style=\"font-weight: bold\">⌚ Time</span>: num_epochs                ││ <span style=\"font-weight: bold\">📉 Stats</span>: train_loss, test_loss    │ │\n",
       "│ ╰────────────────────────────────────╯╰────────────────────────────────────╯ │\n",
       "│ ╭────────────────────────────────────╮╭────────────────────────────────────╮ │\n",
       "│ │ <span style=\"font-weight: bold\">🌱 Seed ID</span>: 1                      ││ <span style=\"font-weight: bold\">🚀 Model</span>: no-model-type            │ │\n",
       "│ ╰────────────────────────────────────╯╰────────────────────────────────────╯ │\n",
       "╰──────────────────────────────────────────────────────────────────────────────╯\n",
       "</pre>\n"
      ],
      "text/plain": [
       "╭──────────────────────────────────────────────────────────────────────────────╮\n",
       "│ ╭────────────────────────────────────╮╭────────────────────────────────────╮ │\n",
       "│ │ \u001b[1m📖 Log Dir\u001b[0m:                        ││ \u001b[1m📄 Config\u001b[0m:                         │ │\n",
       "│ │ experiments/log_logging/base_conf… ││ configs/base_config_1.yaml         │ │\n",
       "│ ╰────────────────────────────────────╯╰────────────────────────────────────╯ │\n",
       "│ ╭────────────────────────────────────╮╭────────────────────────────────────╮ │\n",
       "│ │ \u001b[1m⌚ Time\u001b[0m: num_epochs                ││ \u001b[1m📉 Stats\u001b[0m: train_loss, test_loss    │ │\n",
       "│ ╰────────────────────────────────────╯╰────────────────────────────────────╯ │\n",
       "│ ╭────────────────────────────────────╮╭────────────────────────────────────╮ │\n",
       "│ │ \u001b[1m🌱 Seed ID\u001b[0m: 1                      ││ \u001b[1m🚀 Model\u001b[0m: no-model-type            │ │\n",
       "│ ╰────────────────────────────────────╯╰────────────────────────────────────╯ │\n",
       "╰──────────────────────────────────────────────────────────────────────────────╯\n"
      ]
     },
     "metadata": {},
     "output_type": "display_data"
    }
   ],
   "source": [
    "seed_id = 1\n",
    "\n",
    "log = MLELogger(\n",
    "    experiment_dir=\"experiments/log_logging\",\n",
    "    config_fname=config_fname,\n",
    "    seed_id=seed_id,\n",
    "    time_to_track=[\"num_epochs\"],\n",
    "    what_to_track=[\"train_loss\", \"test_loss\"],\n",
    "    verbose=True\n",
    ")"
   ]
  },
  {
   "cell_type": "code",
   "execution_count": 5,
   "id": "85428af3-7b64-4522-8443-91c15863d70b",
   "metadata": {},
   "outputs": [
    {
     "data": {
      "text/html": [
       "<pre style=\"white-space:pre;overflow-x:auto;line-height:normal;font-family:Menlo,'DejaVu Sans Mono',consolas,'Courier New',monospace\">       <span style=\"color: #c0c0c0; text-decoration-color: #c0c0c0\">                                                                 </span>        \n",
       "       <span style=\"color: #c0c0c0; text-decoration-color: #c0c0c0\"> </span><span style=\"font-weight: bold\"> ⌚ </span><span style=\"color: #800000; text-decoration-color: #800000; font-weight: bold\">time</span><span style=\"font-weight: bold\">        </span><span style=\"color: #c0c0c0; text-decoration-color: #c0c0c0\"> </span><span style=\"font-weight: bold\">  </span><span style=\"color: #800000; text-decoration-color: #800000; font-weight: bold\">num_epochs</span><span style=\"font-weight: bold\">  </span><span style=\"color: #c0c0c0; text-decoration-color: #c0c0c0\"> </span><span style=\"font-weight: bold\"> 📉 </span><span style=\"color: #000080; text-decoration-color: #000080; font-weight: bold\">train_loss</span><span style=\"font-weight: bold\">  </span><span style=\"color: #c0c0c0; text-decoration-color: #c0c0c0\"> </span><span style=\"font-weight: bold\">  </span><span style=\"color: #000080; text-decoration-color: #000080; font-weight: bold\">test_loss</span><span style=\"font-weight: bold\">   </span><span style=\"color: #c0c0c0; text-decoration-color: #c0c0c0\"> </span>        \n",
       "       <span style=\"color: #c0c0c0; text-decoration-color: #c0c0c0\"> ─────────────────────────────────────────────────────────────── </span>        \n",
       "       <span style=\"color: #c0c0c0; text-decoration-color: #c0c0c0\"> </span><span style=\"color: #800000; text-decoration-color: #800000\"> 21-12-08/20:10 </span><span style=\"color: #c0c0c0; text-decoration-color: #c0c0c0\"> </span><span style=\"color: #800000; text-decoration-color: #800000\">      1       </span><span style=\"color: #c0c0c0; text-decoration-color: #c0c0c0\"> </span>      10.5      <span style=\"color: #c0c0c0; text-decoration-color: #c0c0c0\"> </span>   10.6953    <span style=\"color: #c0c0c0; text-decoration-color: #c0c0c0\"> </span>        \n",
       "       <span style=\"color: #c0c0c0; text-decoration-color: #c0c0c0\">                                                                 </span>        \n",
       "</pre>\n"
      ],
      "text/plain": [
       "       \u001b[37m                                                                 \u001b[0m        \n",
       "       \u001b[37m \u001b[0m\u001b[1m \u001b[0m\u001b[1m⌚ \u001b[0m\u001b[1;31mtime\u001b[0m\u001b[1m       \u001b[0m\u001b[1m \u001b[0m\u001b[37m \u001b[0m\u001b[1m \u001b[0m\u001b[1m \u001b[0m\u001b[1;31mnum_epochs\u001b[0m\u001b[1m \u001b[0m\u001b[1m \u001b[0m\u001b[37m \u001b[0m\u001b[1m \u001b[0m\u001b[1m📉 \u001b[0m\u001b[1;34mtrain_loss\u001b[0m\u001b[1m \u001b[0m\u001b[1m \u001b[0m\u001b[37m \u001b[0m\u001b[1m \u001b[0m\u001b[1m \u001b[0m\u001b[1;34mtest_loss\u001b[0m\u001b[1m  \u001b[0m\u001b[1m \u001b[0m\u001b[37m \u001b[0m        \n",
       "       \u001b[37m ─────────────────────────────────────────────────────────────── \u001b[0m        \n",
       "       \u001b[37m \u001b[0m\u001b[31m \u001b[0m\u001b[31m21-12-08/20:10\u001b[0m\u001b[31m \u001b[0m\u001b[37m \u001b[0m\u001b[31m \u001b[0m\u001b[31m     1      \u001b[0m\u001b[31m \u001b[0m\u001b[37m \u001b[0m      10.5      \u001b[37m \u001b[0m   10.6953    \u001b[37m \u001b[0m        \n",
       "       \u001b[37m                                                                 \u001b[0m        \n"
      ]
     },
     "metadata": {},
     "output_type": "display_data"
    },
    {
     "data": {
      "text/html": [
       "<pre style=\"white-space:pre;overflow-x:auto;line-height:normal;font-family:Menlo,'DejaVu Sans Mono',consolas,'Courier New',monospace\">       <span style=\"color: #c0c0c0; text-decoration-color: #c0c0c0\">                                                                 </span>        \n",
       "       <span style=\"color: #c0c0c0; text-decoration-color: #c0c0c0\"> </span><span style=\"color: #800000; text-decoration-color: #800000\"> 21-12-08/20:10 </span><span style=\"color: #c0c0c0; text-decoration-color: #c0c0c0\"> </span><span style=\"color: #800000; text-decoration-color: #800000\">      2       </span><span style=\"color: #c0c0c0; text-decoration-color: #c0c0c0\"> </span>      5.25      <span style=\"color: #c0c0c0; text-decoration-color: #c0c0c0\"> </span>    5.3163    <span style=\"color: #c0c0c0; text-decoration-color: #c0c0c0\"> </span>        \n",
       "       <span style=\"color: #c0c0c0; text-decoration-color: #c0c0c0\">                                                                 </span>        \n",
       "</pre>\n"
      ],
      "text/plain": [
       "       \u001b[37m                                                                 \u001b[0m        \n",
       "       \u001b[37m \u001b[0m\u001b[31m \u001b[0m\u001b[31m21-12-08/20:10\u001b[0m\u001b[31m \u001b[0m\u001b[37m \u001b[0m\u001b[31m \u001b[0m\u001b[31m     2      \u001b[0m\u001b[31m \u001b[0m\u001b[37m \u001b[0m      5.25      \u001b[37m \u001b[0m    5.3163    \u001b[37m \u001b[0m        \n",
       "       \u001b[37m                                                                 \u001b[0m        \n"
      ]
     },
     "metadata": {},
     "output_type": "display_data"
    },
    {
     "data": {
      "text/html": [
       "<pre style=\"white-space:pre;overflow-x:auto;line-height:normal;font-family:Menlo,'DejaVu Sans Mono',consolas,'Courier New',monospace\">       <span style=\"color: #c0c0c0; text-decoration-color: #c0c0c0\">                                                                 </span>        \n",
       "       <span style=\"color: #c0c0c0; text-decoration-color: #c0c0c0\"> </span><span style=\"color: #800000; text-decoration-color: #800000\"> 21-12-08/20:10 </span><span style=\"color: #c0c0c0; text-decoration-color: #c0c0c0\"> </span><span style=\"color: #800000; text-decoration-color: #800000\">      3       </span><span style=\"color: #c0c0c0; text-decoration-color: #c0c0c0\"> </span>      3.5       <span style=\"color: #c0c0c0; text-decoration-color: #c0c0c0\"> </span>    3.5387    <span style=\"color: #c0c0c0; text-decoration-color: #c0c0c0\"> </span>        \n",
       "       <span style=\"color: #c0c0c0; text-decoration-color: #c0c0c0\">                                                                 </span>        \n",
       "</pre>\n"
      ],
      "text/plain": [
       "       \u001b[37m                                                                 \u001b[0m        \n",
       "       \u001b[37m \u001b[0m\u001b[31m \u001b[0m\u001b[31m21-12-08/20:10\u001b[0m\u001b[31m \u001b[0m\u001b[37m \u001b[0m\u001b[31m \u001b[0m\u001b[31m     3      \u001b[0m\u001b[31m \u001b[0m\u001b[37m \u001b[0m      3.5       \u001b[37m \u001b[0m    3.5387    \u001b[37m \u001b[0m        \n",
       "       \u001b[37m                                                                 \u001b[0m        \n"
      ]
     },
     "metadata": {},
     "output_type": "display_data"
    },
    {
     "data": {
      "text/html": [
       "<pre style=\"white-space:pre;overflow-x:auto;line-height:normal;font-family:Menlo,'DejaVu Sans Mono',consolas,'Courier New',monospace\">       <span style=\"color: #c0c0c0; text-decoration-color: #c0c0c0\">                                                                 </span>        \n",
       "       <span style=\"color: #c0c0c0; text-decoration-color: #c0c0c0\"> </span><span style=\"color: #800000; text-decoration-color: #800000\"> 21-12-08/20:10 </span><span style=\"color: #c0c0c0; text-decoration-color: #c0c0c0\"> </span><span style=\"color: #800000; text-decoration-color: #800000\">      4       </span><span style=\"color: #c0c0c0; text-decoration-color: #c0c0c0\"> </span>     2.625      <span style=\"color: #c0c0c0; text-decoration-color: #c0c0c0\"> </span>    2.6846    <span style=\"color: #c0c0c0; text-decoration-color: #c0c0c0\"> </span>        \n",
       "       <span style=\"color: #c0c0c0; text-decoration-color: #c0c0c0\">                                                                 </span>        \n",
       "</pre>\n"
      ],
      "text/plain": [
       "       \u001b[37m                                                                 \u001b[0m        \n",
       "       \u001b[37m \u001b[0m\u001b[31m \u001b[0m\u001b[31m21-12-08/20:10\u001b[0m\u001b[31m \u001b[0m\u001b[37m \u001b[0m\u001b[31m \u001b[0m\u001b[31m     4      \u001b[0m\u001b[31m \u001b[0m\u001b[37m \u001b[0m     2.625      \u001b[37m \u001b[0m    2.6846    \u001b[37m \u001b[0m        \n",
       "       \u001b[37m                                                                 \u001b[0m        \n"
      ]
     },
     "metadata": {},
     "output_type": "display_data"
    },
    {
     "data": {
      "text/html": [
       "<pre style=\"white-space:pre;overflow-x:auto;line-height:normal;font-family:Menlo,'DejaVu Sans Mono',consolas,'Courier New',monospace\">       <span style=\"color: #c0c0c0; text-decoration-color: #c0c0c0\">                                                                 </span>        \n",
       "       <span style=\"color: #c0c0c0; text-decoration-color: #c0c0c0\"> </span><span style=\"color: #800000; text-decoration-color: #800000\"> 21-12-08/20:10 </span><span style=\"color: #c0c0c0; text-decoration-color: #c0c0c0\"> </span><span style=\"color: #800000; text-decoration-color: #800000\">      5       </span><span style=\"color: #c0c0c0; text-decoration-color: #c0c0c0\"> </span>      2.1       <span style=\"color: #c0c0c0; text-decoration-color: #c0c0c0\"> </span>    2.1361    <span style=\"color: #c0c0c0; text-decoration-color: #c0c0c0\"> </span>        \n",
       "       <span style=\"color: #c0c0c0; text-decoration-color: #c0c0c0\">                                                                 </span>        \n",
       "</pre>\n"
      ],
      "text/plain": [
       "       \u001b[37m                                                                 \u001b[0m        \n",
       "       \u001b[37m \u001b[0m\u001b[31m \u001b[0m\u001b[31m21-12-08/20:10\u001b[0m\u001b[31m \u001b[0m\u001b[37m \u001b[0m\u001b[31m \u001b[0m\u001b[31m     5      \u001b[0m\u001b[31m \u001b[0m\u001b[37m \u001b[0m      2.1       \u001b[37m \u001b[0m    2.1361    \u001b[37m \u001b[0m        \n",
       "       \u001b[37m                                                                 \u001b[0m        \n"
      ]
     },
     "metadata": {},
     "output_type": "display_data"
    },
    {
     "data": {
      "text/html": [
       "<pre style=\"white-space:pre;overflow-x:auto;line-height:normal;font-family:Menlo,'DejaVu Sans Mono',consolas,'Courier New',monospace\">       <span style=\"color: #c0c0c0; text-decoration-color: #c0c0c0\">                                                                 </span>        \n",
       "       <span style=\"color: #c0c0c0; text-decoration-color: #c0c0c0\"> </span><span style=\"color: #800000; text-decoration-color: #800000\"> 21-12-08/20:10 </span><span style=\"color: #c0c0c0; text-decoration-color: #c0c0c0\"> </span><span style=\"color: #800000; text-decoration-color: #800000\">      6       </span><span style=\"color: #c0c0c0; text-decoration-color: #c0c0c0\"> </span>      1.75      <span style=\"color: #c0c0c0; text-decoration-color: #c0c0c0\"> </span>    1.7923    <span style=\"color: #c0c0c0; text-decoration-color: #c0c0c0\"> </span>        \n",
       "       <span style=\"color: #c0c0c0; text-decoration-color: #c0c0c0\">                                                                 </span>        \n",
       "</pre>\n"
      ],
      "text/plain": [
       "       \u001b[37m                                                                 \u001b[0m        \n",
       "       \u001b[37m \u001b[0m\u001b[31m \u001b[0m\u001b[31m21-12-08/20:10\u001b[0m\u001b[31m \u001b[0m\u001b[37m \u001b[0m\u001b[31m \u001b[0m\u001b[31m     6      \u001b[0m\u001b[31m \u001b[0m\u001b[37m \u001b[0m      1.75      \u001b[37m \u001b[0m    1.7923    \u001b[37m \u001b[0m        \n",
       "       \u001b[37m                                                                 \u001b[0m        \n"
      ]
     },
     "metadata": {},
     "output_type": "display_data"
    },
    {
     "data": {
      "text/html": [
       "<pre style=\"white-space:pre;overflow-x:auto;line-height:normal;font-family:Menlo,'DejaVu Sans Mono',consolas,'Courier New',monospace\">       <span style=\"color: #c0c0c0; text-decoration-color: #c0c0c0\">                                                                 </span>        \n",
       "       <span style=\"color: #c0c0c0; text-decoration-color: #c0c0c0\"> </span><span style=\"color: #800000; text-decoration-color: #800000\"> 21-12-08/20:10 </span><span style=\"color: #c0c0c0; text-decoration-color: #c0c0c0\"> </span><span style=\"color: #800000; text-decoration-color: #800000\">      7       </span><span style=\"color: #c0c0c0; text-decoration-color: #c0c0c0\"> </span>      1.5       <span style=\"color: #c0c0c0; text-decoration-color: #c0c0c0\"> </span>    1.5302    <span style=\"color: #c0c0c0; text-decoration-color: #c0c0c0\"> </span>        \n",
       "       <span style=\"color: #c0c0c0; text-decoration-color: #c0c0c0\">                                                                 </span>        \n",
       "</pre>\n"
      ],
      "text/plain": [
       "       \u001b[37m                                                                 \u001b[0m        \n",
       "       \u001b[37m \u001b[0m\u001b[31m \u001b[0m\u001b[31m21-12-08/20:10\u001b[0m\u001b[31m \u001b[0m\u001b[37m \u001b[0m\u001b[31m \u001b[0m\u001b[31m     7      \u001b[0m\u001b[31m \u001b[0m\u001b[37m \u001b[0m      1.5       \u001b[37m \u001b[0m    1.5302    \u001b[37m \u001b[0m        \n",
       "       \u001b[37m                                                                 \u001b[0m        \n"
      ]
     },
     "metadata": {},
     "output_type": "display_data"
    },
    {
     "data": {
      "text/html": [
       "<pre style=\"white-space:pre;overflow-x:auto;line-height:normal;font-family:Menlo,'DejaVu Sans Mono',consolas,'Courier New',monospace\">       <span style=\"color: #c0c0c0; text-decoration-color: #c0c0c0\">                                                                 </span>        \n",
       "       <span style=\"color: #c0c0c0; text-decoration-color: #c0c0c0\"> </span><span style=\"color: #800000; text-decoration-color: #800000\"> 21-12-08/20:10 </span><span style=\"color: #c0c0c0; text-decoration-color: #c0c0c0\"> </span><span style=\"color: #800000; text-decoration-color: #800000\">      8       </span><span style=\"color: #c0c0c0; text-decoration-color: #c0c0c0\"> </span>     1.3125     <span style=\"color: #c0c0c0; text-decoration-color: #c0c0c0\"> </span>    1.3208    <span style=\"color: #c0c0c0; text-decoration-color: #c0c0c0\"> </span>        \n",
       "       <span style=\"color: #c0c0c0; text-decoration-color: #c0c0c0\">                                                                 </span>        \n",
       "</pre>\n"
      ],
      "text/plain": [
       "       \u001b[37m                                                                 \u001b[0m        \n",
       "       \u001b[37m \u001b[0m\u001b[31m \u001b[0m\u001b[31m21-12-08/20:10\u001b[0m\u001b[31m \u001b[0m\u001b[37m \u001b[0m\u001b[31m \u001b[0m\u001b[31m     8      \u001b[0m\u001b[31m \u001b[0m\u001b[37m \u001b[0m     1.3125     \u001b[37m \u001b[0m    1.3208    \u001b[37m \u001b[0m        \n",
       "       \u001b[37m                                                                 \u001b[0m        \n"
      ]
     },
     "metadata": {},
     "output_type": "display_data"
    },
    {
     "data": {
      "text/html": [
       "<pre style=\"white-space:pre;overflow-x:auto;line-height:normal;font-family:Menlo,'DejaVu Sans Mono',consolas,'Courier New',monospace\">       <span style=\"color: #c0c0c0; text-decoration-color: #c0c0c0\">                                                                 </span>        \n",
       "       <span style=\"color: #c0c0c0; text-decoration-color: #c0c0c0\"> </span><span style=\"color: #800000; text-decoration-color: #800000\"> 21-12-08/20:10 </span><span style=\"color: #c0c0c0; text-decoration-color: #c0c0c0\"> </span><span style=\"color: #800000; text-decoration-color: #800000\">      9       </span><span style=\"color: #c0c0c0; text-decoration-color: #c0c0c0\"> </span>     1.1667     <span style=\"color: #c0c0c0; text-decoration-color: #c0c0c0\"> </span>    1.172     <span style=\"color: #c0c0c0; text-decoration-color: #c0c0c0\"> </span>        \n",
       "       <span style=\"color: #c0c0c0; text-decoration-color: #c0c0c0\">                                                                 </span>        \n",
       "</pre>\n"
      ],
      "text/plain": [
       "       \u001b[37m                                                                 \u001b[0m        \n",
       "       \u001b[37m \u001b[0m\u001b[31m \u001b[0m\u001b[31m21-12-08/20:10\u001b[0m\u001b[31m \u001b[0m\u001b[37m \u001b[0m\u001b[31m \u001b[0m\u001b[31m     9      \u001b[0m\u001b[31m \u001b[0m\u001b[37m \u001b[0m     1.1667     \u001b[37m \u001b[0m    1.172     \u001b[37m \u001b[0m        \n",
       "       \u001b[37m                                                                 \u001b[0m        \n"
      ]
     },
     "metadata": {},
     "output_type": "display_data"
    },
    {
     "data": {
      "text/html": [
       "<pre style=\"white-space:pre;overflow-x:auto;line-height:normal;font-family:Menlo,'DejaVu Sans Mono',consolas,'Courier New',monospace\">       <span style=\"color: #c0c0c0; text-decoration-color: #c0c0c0\">                                                                 </span>        \n",
       "       <span style=\"color: #c0c0c0; text-decoration-color: #c0c0c0\"> </span><span style=\"color: #800000; text-decoration-color: #800000\"> 21-12-08/20:10 </span><span style=\"color: #c0c0c0; text-decoration-color: #c0c0c0\"> </span><span style=\"color: #800000; text-decoration-color: #800000\">      10      </span><span style=\"color: #c0c0c0; text-decoration-color: #c0c0c0\"> </span>      1.05      <span style=\"color: #c0c0c0; text-decoration-color: #c0c0c0\"> </span>    1.0619    <span style=\"color: #c0c0c0; text-decoration-color: #c0c0c0\"> </span>        \n",
       "       <span style=\"color: #c0c0c0; text-decoration-color: #c0c0c0\">                                                                 </span>        \n",
       "</pre>\n"
      ],
      "text/plain": [
       "       \u001b[37m                                                                 \u001b[0m        \n",
       "       \u001b[37m \u001b[0m\u001b[31m \u001b[0m\u001b[31m21-12-08/20:10\u001b[0m\u001b[31m \u001b[0m\u001b[37m \u001b[0m\u001b[31m \u001b[0m\u001b[31m     10     \u001b[0m\u001b[31m \u001b[0m\u001b[37m \u001b[0m      1.05      \u001b[37m \u001b[0m    1.0619    \u001b[37m \u001b[0m        \n",
       "       \u001b[37m                                                                 \u001b[0m        \n"
      ]
     },
     "metadata": {},
     "output_type": "display_data"
    }
   ],
   "source": [
    "for epoch in range(1, 11):\n",
    "    train_loss, test_loss = train_your_net(epoch, seed_id, **train_config)\n",
    "    log.update(\n",
    "        {\"num_epochs\": epoch},\n",
    "        {\"train_loss\": train_loss, \"test_loss\": test_loss},\n",
    "        save=True,\n",
    "    )"
   ]
  },
  {
   "cell_type": "code",
   "execution_count": 7,
   "id": "31e981a2-11e5-4334-bcc9-4b6b451c18e4",
   "metadata": {},
   "outputs": [
    {
     "data": {
      "text/plain": [
       "(<Figure size 648x432 with 1 Axes>,\n",
       " <AxesSubplot:title={'center':'train_loss, test_loss'}, xlabel='num_epochs', ylabel='train_loss, test_loss'>)"
      ]
     },
     "execution_count": 7,
     "metadata": {},
     "output_type": "execute_result"
    },
    {
     "data": {
      "image/png": "[encoded data removed]",
      "text/plain": [
       "<Figure size 648x432 with 1 Axes>"
      ]
     },
     "metadata": {},
     "output_type": "display_data"
    }
   ],
   "source": [
    "# Reload log & visualize the data\n",
    "from mle_logging import load_log\n",
    "log = load_log(\"experiments/log_logging/base_config_1\")\n",
    "log.plot([\"train_loss\", \"test_loss\"])"
   ]
  },
  {
   "cell_type": "markdown",
   "id": "25845ab5-58d0-4ef1-a23c-750bcd254b98",
   "metadata": {},
   "source": [
    "# Launch your Experiments with `mle-scheduler`"
   ]
  },
  {
   "cell_type": "code",
   "execution_count": 8,
   "id": "8d7c2113-c121-4e96-a23e-626fca8d0da5",
   "metadata": {},
   "outputs": [
    {
     "data": {
      "application/vnd.jupyter.widget-view+json": {
       "model_id": "145b00d9bcb24e2ebb2d509534b3c199",
       "version_major": 2,
       "version_minor": 0
      },
      "text/plain": [
       "Output()"
      ]
     },
     "metadata": {},
     "output_type": "display_data"
    },
    {
     "data": {
      "text/html": [
       "<pre style=\"white-space:pre;overflow-x:auto;line-height:normal;font-family:Menlo,'DejaVu Sans Mono',consolas,'Courier New',monospace\">  <span style=\"color: #000080; text-decoration-color: #000080; font-weight: bold\">MLEQueue - local •</span> 4/4 Jobs <span style=\"color: #729c1f; text-decoration-color: #729c1f\">━━━━━━━━━━━━━━━━━━━━━━━━━━━</span> <span style=\"color: #800080; text-decoration-color: #800080\">100% •</span> <span style=\"color: #808000; text-decoration-color: #808000\">0:00:01</span> ⌛\n",
       "</pre>\n"
      ],
      "text/plain": [
       "  \u001b[1;34mMLEQueue - local •\u001b[0m 4/4 Jobs \u001b[38;2;114;156;31m━━━━━━━━━━━━━━━━━━━━━━━━━━━\u001b[0m \u001b[35m100% •\u001b[0m \u001b[33m0:00:01\u001b[0m ⌛\n"
      ]
     },
     "metadata": {},
     "output_type": "display_data"
    },
    {
     "data": {
      "text/html": [
       "<pre style=\"white-space:pre;overflow-x:auto;line-height:normal;font-family:Menlo,'DejaVu Sans Mono',consolas,'Courier New',monospace\">\n",
       "</pre>\n"
      ],
      "text/plain": [
       "\n"
      ]
     },
     "metadata": {},
     "output_type": "display_data"
    }
   ],
   "source": [
    "from mle_scheduler import MLEQueue\n",
    "\n",
    "queue = MLEQueue(resource_to_run=\"local\",\n",
    "                 job_filename=\"train.py\",\n",
    "                 config_filenames=[\"configs/base_config_1.yaml\",\n",
    "                                   \"configs/base_config_2.yaml\"],\n",
    "                 random_seeds=[0, 1],\n",
    "                 experiment_dir=\"experiments/logs_queue\")\n",
    "\n",
    "queue.run()"
   ]
  },
  {
   "cell_type": "markdown",
   "id": "cff0c16c-382b-4906-9c34-cdb6a3189198",
   "metadata": {},
   "source": [
    "```python\n",
    "# Each job requests 5 CPU cores & 1 V100S GPU w. CUDA 10.0 loaded\n",
    "job_args = {\n",
    "    \"partition\": \"<SLURM_PARTITION>\",  # Partition(s) to schedule jobs on\n",
    "    \"env_name\": \"mle-toolbox\",  # Env to activate at job start-up\n",
    "    \"use_conda_venv\": True,  # Whether to use anaconda venv\n",
    "    \"num_logical_cores\": 5,  # Number of requested CPU cores per job\n",
    "    \"num_gpus\": 1,  # Number of requested GPUs per job\n",
    "    \"gpu_type\": \"V100S\",  # GPU model requested for each job\n",
    "    \"modules_to_load\": \"nvidia/cuda/10.0\"  # Modules to load at start-up\n",
    "}\n",
    "\n",
    "\n",
    "queue = MLEQueue(\n",
    "    resource_to_run=\"slurm-cluster\",\n",
    "    job_filename=\"train.py\",\n",
    "    job_arguments=job_args,\n",
    "    config_filenames=[\"base_config_1.yaml\",\n",
    "                      \"base_config_2.yaml\"],\n",
    "    experiment_dir=\"logs_queue_slurm\",\n",
    "    random_seeds=[0, 1]\n",
    ")\n",
    "queue.run()\n",
    "```"
   ]
  },
  {
   "cell_type": "markdown",
   "id": "0afed99e-fb9b-40ca-8f98-112cccee3579",
   "metadata": {},
   "source": [
    "# Hyperparameter Search with `mle-hyperopt`"
   ]
  },
  {
   "cell_type": "code",
   "execution_count": 9,
   "id": "4471cb05-cb38-4a29-9bdc-18b4e3fb339d",
   "metadata": {},
   "outputs": [
    {
     "data": {
      "text/html": [
       "<pre style=\"white-space:pre;overflow-x:auto;line-height:normal;font-family:Menlo,'DejaVu Sans Mono',consolas,'Courier New',monospace\">         <span style=\"font-style: italic\">           MLE-Hyperopt Gird Search Hyperspace 🚀            </span>          \n",
       "                                                                                \n",
       "          <span style=\"font-weight: bold\"> 🌻 Variable </span> <span style=\"font-weight: bold\"> Type        </span> <span style=\"color: #800000; text-decoration-color: #800000; font-weight: bold\"> Search Range ↔                </span>           \n",
       "          ───────────────────────────────────────────────────────────           \n",
       "           arch          categorical  <span style=\"color: #800000; text-decoration-color: #800000\"> ['mlp', 'cnn']                </span>           \n",
       "           lrate         real         <span style=\"color: #800000; text-decoration-color: #800000\"> Begin: 0.1, End: 0.5, Bins: 5 </span>           \n",
       "           batch_size    integer      <span style=\"color: #800000; text-decoration-color: #800000\"> Begin: 1, End: 5, Bins: 5     </span>           \n",
       "                                                                                \n",
       "</pre>\n"
      ],
      "text/plain": [
       "         \u001b[3m           MLE-Hyperopt Gird Search Hyperspace 🚀            \u001b[0m          \n",
       "                                                                                \n",
       "          \u001b[1m \u001b[0m\u001b[1m🌻 Variable\u001b[0m\u001b[1m \u001b[0m \u001b[1m \u001b[0m\u001b[1mType       \u001b[0m\u001b[1m \u001b[0m \u001b[1;31m \u001b[0m\u001b[1;31mSearch Range ↔               \u001b[0m\u001b[1;31m \u001b[0m           \n",
       "          ───────────────────────────────────────────────────────────           \n",
       "           arch          categorical  \u001b[31m \u001b[0m\u001b[31m['mlp', 'cnn']               \u001b[0m\u001b[31m \u001b[0m           \n",
       "           lrate         real         \u001b[31m \u001b[0m\u001b[31mBegin: 0.1, End: 0.5, Bins: 5\u001b[0m\u001b[31m \u001b[0m           \n",
       "           batch_size    integer      \u001b[31m \u001b[0m\u001b[31mBegin: 1, End: 5, Bins: 5    \u001b[0m\u001b[31m \u001b[0m           \n",
       "                                                                                \n"
      ]
     },
     "metadata": {},
     "output_type": "display_data"
    },
    {
     "data": {
      "text/plain": [
       "[{'arch': 'mlp', 'batch_size': 1, 'lrate': 0.1},\n",
       " {'arch': 'mlp', 'batch_size': 1, 'lrate': 0.2}]"
      ]
     },
     "execution_count": 9,
     "metadata": {},
     "output_type": "execute_result"
    }
   ],
   "source": [
    "from mle_hyperopt import GridSearch, RandomSearch\n",
    "\n",
    "# Instantiate random search class\n",
    "strategy = GridSearch(\n",
    "    real={\"lrate\": {\"begin\": 0.1, \"end\": 0.5, \"bins\": 5}},\n",
    "    integer={\"batch_size\": {\"begin\": 1, \"end\": 5, \"bins\": 5}},\n",
    "    categorical={\"arch\": [\"mlp\", \"cnn\"]},\n",
    "    verbose=True,\n",
    ")\n",
    "\n",
    "# Ask for configurations to evaluate & run parallel eval of seeds * configs\n",
    "configs, config_fnames = strategy.ask(2, store=True)\n",
    "configs"
   ]
  },
  {
   "cell_type": "code",
   "execution_count": 10,
   "id": "b39251d3-b25b-4962-abf5-28b143812cfb",
   "metadata": {},
   "outputs": [
    {
     "data": {
      "application/vnd.jupyter.widget-view+json": {
       "model_id": "940b1c2d734c4cffa6b81cb54c8857ee",
       "version_major": 2,
       "version_minor": 0
      },
      "text/plain": [
       "Output()"
      ]
     },
     "metadata": {},
     "output_type": "display_data"
    },
    {
     "data": {
      "text/html": [
       "<pre style=\"white-space:pre;overflow-x:auto;line-height:normal;font-family:Menlo,'DejaVu Sans Mono',consolas,'Courier New',monospace\">  <span style=\"color: #000080; text-decoration-color: #000080; font-weight: bold\">MLEQueue - local •</span> 4/4 Jobs <span style=\"color: #729c1f; text-decoration-color: #729c1f\">━━━━━━━━━━━━━━━━━━━━━━━━━━━</span> <span style=\"color: #800080; text-decoration-color: #800080\">100% •</span> <span style=\"color: #808000; text-decoration-color: #808000\">0:00:01</span> ⌛\n",
       "</pre>\n"
      ],
      "text/plain": [
       "  \u001b[1;34mMLEQueue - local •\u001b[0m 4/4 Jobs \u001b[38;2;114;156;31m━━━━━━━━━━━━━━━━━━━━━━━━━━━\u001b[0m \u001b[35m100% •\u001b[0m \u001b[33m0:00:01\u001b[0m ⌛\n"
      ]
     },
     "metadata": {},
     "output_type": "display_data"
    },
    {
     "data": {
      "text/html": [
       "<pre style=\"white-space:pre;overflow-x:auto;line-height:normal;font-family:Menlo,'DejaVu Sans Mono',consolas,'Courier New',monospace\">\n",
       "</pre>\n"
      ],
      "text/plain": [
       "\n"
      ]
     },
     "metadata": {},
     "output_type": "display_data"
    }
   ],
   "source": [
    "queue = MLEQueue(\n",
    "    resource_to_run=\"local\",\n",
    "    job_filename=\"train.py\",\n",
    "    config_filenames=config_fnames,\n",
    "    random_seeds=[1, 2],\n",
    "    experiment_dir=\"experiments/logs_search\",\n",
    "    automerge_configs=True\n",
    ")\n",
    "queue.run()"
   ]
  },
  {
   "cell_type": "code",
   "execution_count": 11,
   "id": "61c8024a-2f4b-4c0b-8b48-2ff977d3c9cb",
   "metadata": {},
   "outputs": [
    {
     "data": {
      "text/html": [
       "<pre style=\"white-space:pre;overflow-x:auto;line-height:normal;font-family:Menlo,'DejaVu Sans Mono',consolas,'Courier New',monospace\">┏━━━━━━━━━━━━━━━┳━━━━┳━━━━━━━━━┳━━━━━━━━━━━━━━━━━━━━━━━━━━━━━━━━━━━━━━━━━━━━━━┓ \n",
       "┃<span style=\"font-weight: bold\"> 📥 Total: 2   </span>┃<span style=\"font-weight: bold\"> ID </span>┃<span style=\"font-weight: bold\"> Obj. 📉 </span>┃<span style=\"font-weight: bold\"> Configuration 🔖 - 12/08/2021 20:11:37       </span>┃ \n",
       "┡━━━━━━━━━━━━━━━╇━━━━╇━━━━━━━━━╇━━━━━━━━━━━━━━━━━━━━━━━━━━━━━━━━━━━━━━━━━━━━━━┩ \n",
       "│<span style=\"color: #7f7f7f; text-decoration-color: #7f7f7f\"> Best Overall  </span>│ 0  │ 1.981   │ 'arch': 'mlp', 'batch_size': 1, 'lrate': 0.1 │ \n",
       "│<span style=\"color: #7f7f7f; text-decoration-color: #7f7f7f\"> Best in Batch </span>│ 0  │ 1.981   │ 'arch': 'mlp', 'batch_size': 1, 'lrate': 0.1 │ \n",
       "└───────────────┴────┴─────────┴──────────────────────────────────────────────┘ \n",
       "</pre>\n"
      ],
      "text/plain": [
       "┏━━━━━━━━━━━━━━━┳━━━━┳━━━━━━━━━┳━━━━━━━━━━━━━━━━━━━━━━━━━━━━━━━━━━━━━━━━━━━━━━┓ \n",
       "┃\u001b[1m \u001b[0m\u001b[1m📥 Total: 2  \u001b[0m\u001b[1m \u001b[0m┃\u001b[1m \u001b[0m\u001b[1mID\u001b[0m\u001b[1m \u001b[0m┃\u001b[1m \u001b[0m\u001b[1mObj. 📉\u001b[0m\u001b[1m \u001b[0m┃\u001b[1m \u001b[0m\u001b[1mConfiguration 🔖 - 12/08/2021 20:11:37      \u001b[0m\u001b[1m \u001b[0m┃ \n",
       "┡━━━━━━━━━━━━━━━╇━━━━╇━━━━━━━━━╇━━━━━━━━━━━━━━━━━━━━━━━━━━━━━━━━━━━━━━━━━━━━━━┩ \n",
       "│\u001b[2m \u001b[0m\u001b[2mBest Overall \u001b[0m\u001b[2m \u001b[0m│ 0  │ 1.981   │ 'arch': 'mlp', 'batch_size': 1, 'lrate': 0.1 │ \n",
       "│\u001b[2m \u001b[0m\u001b[2mBest in Batch\u001b[0m\u001b[2m \u001b[0m│ 0  │ 1.981   │ 'arch': 'mlp', 'batch_size': 1, 'lrate': 0.1 │ \n",
       "└───────────────┴────┴─────────┴──────────────────────────────────────────────┘ \n"
      ]
     },
     "metadata": {},
     "output_type": "display_data"
    }
   ],
   "source": [
    "from mle_logging import load_meta_log\n",
    "meta_log = load_meta_log(\"experiments/logs_search/meta_log.hdf5\")\n",
    "test_scores = [meta_log[r].stats.test_loss.mean[-1] for r in queue.mle_run_ids]\n",
    "\n",
    "strategy.tell(configs, test_scores)"
   ]
  },
  {
   "cell_type": "markdown",
   "id": "4f8b9d43-60af-4a79-9718-85c7adb9931d",
   "metadata": {},
   "source": [
    "# Protocol your Experiments with `mle-monitor`"
   ]
  },
  {
   "cell_type": "code",
   "execution_count": 12,
   "id": "13a17392-6f87-4a82-965a-bca350e09a3b",
   "metadata": {},
   "outputs": [],
   "source": [
    "from mle_monitor import MLEProtocol"
   ]
  },
  {
   "cell_type": "code",
   "execution_count": 14,
   "id": "4dedbe85-d6c9-458c-9183-40ab2f976ab4",
   "metadata": {},
   "outputs": [],
   "source": [
    "# Load (existing) protocol database and add experiment data\n",
    "protocol_db = MLEProtocol(\"mle_protocol.db\")\n",
    "meta_data = {\n",
    "    \"purpose\": \"random search\",  # Purpose of experiment\n",
    "    \"project_name\": \"surrogate\",  # Project name of experiment\n",
    "    \"exec_resource\": \"local\",  # Resource jobs are run on\n",
    "    \"experiment_dir\": \"logs_search\",  # Experiment log storage directory\n",
    "    \"experiment_type\": \"hyperparameter-search\",  # Type of experiment to run\n",
    "    \"base_fname\": \"train.py\",  # Main code script to execute\n",
    "    \"config_fname\": \"configs/base_config_1.yaml\",  # Config file path of experiment\n",
    "    \"num_seeds\": 2,  # Number of evaluations seeds\n",
    "    \"num_total_jobs\": 4,  # Number of total jobs to run\n",
    "    \"num_jobs_per_batch\": 4,  # Number of jobs in single batch\n",
    "    \"num_job_batches\": 1,  # Number of sequential job batches\n",
    "    \"time_per_job\": \"00:00:02\",  # Expected duration: days-hours-minutes\n",
    "}\n",
    "\n",
    "new_experiment_id = protocol_db.add(meta_data)"
   ]
  },
  {
   "cell_type": "code",
   "execution_count": 15,
   "id": "dc426fe1-2c92-4821-a8c7-12ac08a34558",
   "metadata": {},
   "outputs": [
    {
     "data": {
      "text/html": [
       "<pre style=\"white-space:pre;overflow-x:auto;line-height:normal;font-family:Menlo,'DejaVu Sans Mono',consolas,'Courier New',monospace\">    <span style=\"font-style: italic\">                MLE-Hyperopt Random Search Hyperspace 🚀                </span>    \n",
       "                                                                                \n",
       "     <span style=\"font-weight: bold\"> 🌻 Variable </span> <span style=\"font-weight: bold\"> Type        </span> <span style=\"color: #800000; text-decoration-color: #800000; font-weight: bold\"> Search Range ↔                           </span>     \n",
       "     ──────────────────────────────────────────────────────────────────────     \n",
       "      arch          categorical  <span style=\"color: #800000; text-decoration-color: #800000\"> ['mlp', 'cnn']                           </span>     \n",
       "      lrate         real         <span style=\"color: #800000; text-decoration-color: #800000\"> Begin: 0.1, End: 0.5, Prior: log-uniform </span>     \n",
       "      batch_size    integer      <span style=\"color: #800000; text-decoration-color: #800000\"> Begin: 1, End: 5, Prior: uniform         </span>     \n",
       "                                                                                \n",
       "</pre>\n"
      ],
      "text/plain": [
       "    \u001b[3m                MLE-Hyperopt Random Search Hyperspace 🚀                \u001b[0m    \n",
       "                                                                                \n",
       "     \u001b[1m \u001b[0m\u001b[1m🌻 Variable\u001b[0m\u001b[1m \u001b[0m \u001b[1m \u001b[0m\u001b[1mType       \u001b[0m\u001b[1m \u001b[0m \u001b[1;31m \u001b[0m\u001b[1;31mSearch Range ↔                          \u001b[0m\u001b[1;31m \u001b[0m     \n",
       "     ──────────────────────────────────────────────────────────────────────     \n",
       "      arch          categorical  \u001b[31m \u001b[0m\u001b[31m['mlp', 'cnn']                          \u001b[0m\u001b[31m \u001b[0m     \n",
       "      lrate         real         \u001b[31m \u001b[0m\u001b[31mBegin: 0.1, End: 0.5, Prior: log-uniform\u001b[0m\u001b[31m \u001b[0m     \n",
       "      batch_size    integer      \u001b[31m \u001b[0m\u001b[31mBegin: 1, End: 5, Prior: uniform        \u001b[0m\u001b[31m \u001b[0m     \n",
       "                                                                                \n"
      ]
     },
     "metadata": {},
     "output_type": "display_data"
    }
   ],
   "source": [
    "# Instantiate random search class\n",
    "strategy = RandomSearch(\n",
    "    real={\"lrate\": {\"begin\": 0.1, \"end\": 0.5, \"prior\": \"log-uniform\"}},\n",
    "    integer={\"batch_size\": {\"begin\": 1, \"end\": 5, \"prior\": \"uniform\"}},\n",
    "    categorical={\"arch\": [\"mlp\", \"cnn\"]},\n",
    "    verbose=True,\n",
    ")\n",
    "\n",
    "# Ask for configurations to evaluate & run parallel eval of seeds * configs\n",
    "configs, config_fnames = strategy.ask(2, store=True)"
   ]
  },
  {
   "cell_type": "code",
   "execution_count": 16,
   "id": "1d72a260-7634-42de-bdf2-7fddf3dcb45e",
   "metadata": {},
   "outputs": [
    {
     "data": {
      "application/vnd.jupyter.widget-view+json": {
       "model_id": "5f99e31f59c04c38a277d7da434bfdd1",
       "version_major": 2,
       "version_minor": 0
      },
      "text/plain": [
       "Output()"
      ]
     },
     "metadata": {},
     "output_type": "display_data"
    },
    {
     "data": {
      "text/html": [
       "<pre style=\"white-space:pre;overflow-x:auto;line-height:normal;font-family:Menlo,'DejaVu Sans Mono',consolas,'Courier New',monospace\">  <span style=\"color: #000080; text-decoration-color: #000080; font-weight: bold\">MLEQueue - local •</span> 4/4 Jobs <span style=\"color: #729c1f; text-decoration-color: #729c1f\">━━━━━━━━━━━━━━━━━━━━━━━━━━━</span> <span style=\"color: #800080; text-decoration-color: #800080\">100% •</span> <span style=\"color: #808000; text-decoration-color: #808000\">0:00:01</span> ⌛\n",
       "</pre>\n"
      ],
      "text/plain": [
       "  \u001b[1;34mMLEQueue - local •\u001b[0m 4/4 Jobs \u001b[38;2;114;156;31m━━━━━━━━━━━━━━━━━━━━━━━━━━━\u001b[0m \u001b[35m100% •\u001b[0m \u001b[33m0:00:01\u001b[0m ⌛\n"
      ]
     },
     "metadata": {},
     "output_type": "display_data"
    },
    {
     "data": {
      "text/html": [
       "<pre style=\"white-space:pre;overflow-x:auto;line-height:normal;font-family:Menlo,'DejaVu Sans Mono',consolas,'Courier New',monospace\">\n",
       "</pre>\n"
      ],
      "text/plain": [
       "\n"
      ]
     },
     "metadata": {},
     "output_type": "display_data"
    }
   ],
   "source": [
    "queue = MLEQueue(\n",
    "    resource_to_run=\"local\",\n",
    "    job_filename=\"train.py\",\n",
    "    config_filenames=config_fnames,\n",
    "    random_seeds=[1, 2],\n",
    "    experiment_dir=\"experiments/logs_protocol\",\n",
    "    protocol_db=protocol_db,\n",
    ")\n",
    "queue.run()\n",
    "\n",
    "# Merge logs of random seeds & configs -> load & get final scores\n",
    "queue.merge_configs(merge_seeds=True)\n",
    "meta_log = load_meta_log(\"experiments/logs_protocol/meta_log.hdf5\")\n",
    "test_scores = [meta_log[r].stats.test_loss.mean[-1] for r in queue.mle_run_ids]"
   ]
  },
  {
   "cell_type": "code",
   "execution_count": 17,
   "id": "ce41314b-dd74-45a4-a067-a8e634227b49",
   "metadata": {},
   "outputs": [
    {
     "data": {
      "text/html": [
       "<pre style=\"white-space:pre;overflow-x:auto;line-height:normal;font-family:Menlo,'DejaVu Sans Mono',consolas,'Courier New',monospace\">┏━━━━━━━━━━━━━━━┳━━━━┳━━━━━━━━━┳━━━━━━━━━━━━━━━━━━━━━━━━━━━━━━━━━━━━━━━━━━━━━━━┓\n",
       "┃<span style=\"font-weight: bold\"> 📥 Total: 2   </span>┃<span style=\"font-weight: bold\"> ID </span>┃<span style=\"font-weight: bold\"> Obj. 📉 </span>┃<span style=\"font-weight: bold\"> Configuration 🔖 - 12/08/2021 20:12:08        </span>┃\n",
       "┡━━━━━━━━━━━━━━━╇━━━━╇━━━━━━━━━╇━━━━━━━━━━━━━━━━━━━━━━━━━━━━━━━━━━━━━━━━━━━━━━━┩\n",
       "│<span style=\"color: #7f7f7f; text-decoration-color: #7f7f7f\"> Best Overall  </span>│ 0  │ 1.192   │ 'arch': 'mlp', 'lrate': 0.360379148648584,    │\n",
       "│               │    │         │ 'batch_size': 3                               │\n",
       "│<span style=\"color: #7f7f7f; text-decoration-color: #7f7f7f\"> Best in Batch </span>│ 0  │ 1.192   │ 'arch': 'mlp', 'lrate': 0.360379148648584,    │\n",
       "│               │    │         │ 'batch_size': 3                               │\n",
       "└───────────────┴────┴─────────┴───────────────────────────────────────────────┘\n",
       "</pre>\n"
      ],
      "text/plain": [
       "┏━━━━━━━━━━━━━━━┳━━━━┳━━━━━━━━━┳━━━━━━━━━━━━━━━━━━━━━━━━━━━━━━━━━━━━━━━━━━━━━━━┓\n",
       "┃\u001b[1m \u001b[0m\u001b[1m📥 Total: 2  \u001b[0m\u001b[1m \u001b[0m┃\u001b[1m \u001b[0m\u001b[1mID\u001b[0m\u001b[1m \u001b[0m┃\u001b[1m \u001b[0m\u001b[1mObj. 📉\u001b[0m\u001b[1m \u001b[0m┃\u001b[1m \u001b[0m\u001b[1mConfiguration 🔖 - 12/08/2021 20:12:08       \u001b[0m\u001b[1m \u001b[0m┃\n",
       "┡━━━━━━━━━━━━━━━╇━━━━╇━━━━━━━━━╇━━━━━━━━━━━━━━━━━━━━━━━━━━━━━━━━━━━━━━━━━━━━━━━┩\n",
       "│\u001b[2m \u001b[0m\u001b[2mBest Overall \u001b[0m\u001b[2m \u001b[0m│ 0  │ 1.192   │ 'arch': 'mlp', 'lrate': 0.360379148648584,    │\n",
       "│               │    │         │ 'batch_size': 3                               │\n",
       "│\u001b[2m \u001b[0m\u001b[2mBest in Batch\u001b[0m\u001b[2m \u001b[0m│ 0  │ 1.192   │ 'arch': 'mlp', 'lrate': 0.360379148648584,    │\n",
       "│               │    │         │ 'batch_size': 3                               │\n",
       "└───────────────┴────┴─────────┴───────────────────────────────────────────────┘\n"
      ]
     },
     "metadata": {},
     "output_type": "display_data"
    }
   ],
   "source": [
    "# Update the hyperparameter search strategy\n",
    "strategy.tell(configs, test_scores)\n",
    "\n",
    "# Wrap up experiment (store completion time, etc.)\n",
    "protocol_db.complete(new_experiment_id)"
   ]
  },
  {
   "cell_type": "markdown",
   "id": "d7418d59-88cf-4508-9893-63696e65c39a",
   "metadata": {},
   "source": [
    "# Putting it all together with `mle-toolbox`"
   ]
  },
  {
   "cell_type": "code",
   "execution_count": 18,
   "id": "a6658786-ecc1-47e9-99c2-e93b3779a5e1",
   "metadata": {},
   "outputs": [
    {
     "name": "stdout",
     "output_type": "stream",
     "text": [
      "# Meta Arguments: What job? What train .py file? Base config? Where to store?\n",
      "meta_job_args:\n",
      "    project_name: \"examples\"\n",
      "    experiment_type: \"hyperparameter-search\"\n",
      "    base_train_fname: \"train.py\"\n",
      "    base_train_config: \"configs/base_config_1.yaml\"\n",
      "    experiment_dir: \"experiments/search_grid\"\n",
      "\n",
      "# Parameters specific to the hyperparameter search\n",
      "param_search_args:\n",
      "    search_logging:\n",
      "        reload_log: False\n",
      "        verbose_log: True\n",
      "        max_objective: False\n",
      "        aggregate_seeds: \"p50\"\n",
      "        problem_type: \"final\"\n",
      "        eval_metrics: \"test_loss\"\n",
      "    search_resources:\n",
      "        # num_search_batches: 4\n",
      "        # num_evals_per_batch: 4\n",
      "        num_total_evals: 4\n",
      "        max_running_jobs: 4\n",
      "        num_seeds_per_eval: 1\n",
      "        random_seeds: [2]\n",
      "    search_config:\n",
      "        search_type: \"grid\"\n",
      "        # search_schedule: \"sync\"\n",
      "        search_schedule: \"async\"\n",
      "        search_params:\n",
      "            real:\n",
      "                lrate:\n",
      "                    begin: 0.1\n",
      "                    end: 0.5\n",
      "                    bins: 2\n",
      "            integer:\n",
      "                batch_size:\n",
      "                    begin: 1\n",
      "                    end: 5\n",
      "                    bins: 2\n",
      "\n",
      "# Parameters specific to an individual job\n",
      "single_job_args:\n",
      "    job_name: \"toy\"\n",
      "    num_logical_cores: 2\n",
      "    time_per_job: \"00:00:05\"\n"
     ]
    }
   ],
   "source": [
    "!cat configs/grid_search.yaml"
   ]
  },
  {
   "cell_type": "code",
   "execution_count": 19,
   "id": "62b83af2-1704-410f-81dd-f40c1ea697f6",
   "metadata": {},
   "outputs": [
    {
     "name": "stdout",
     "output_type": "stream",
     "text": [
      "\u001b[37;44m╭─────────────────────────────────────────────────────────────────────────────────────╮\u001b[0m\n",
      "\u001b[37;44m│\u001b[0m\u001b[37;44m \u001b[0m\u001b[37;44m    __  _____    ______   ______            ____              \u001b[0m\u001b[37;44m  08/12/2021 20:12:19\u001b[0m\u001b[37;44m \u001b[0m\u001b[37;44m│\u001b[0m\n",
      "\u001b[37;44m│\u001b[0m\u001b[37;44m \u001b[0m\u001b[37;44m   /  |/  / /   / ____/  /_  __/___  ____  / / /_  ____  _  __\u001b[0m\u001b[37;44m  \u001b[0m\u001b]8;id=116739;https://tinyurl.com/srpy4nrp\u001b\\\u001b[37;44mYou are awesome!\u001b[0m\u001b]8;;\u001b\\\u001b[37;44m \u001b[0m\u001b[37;44m🤗\u001b[0m\u001b[37;44m \u001b[0m\u001b[37;44m│\u001b[0m\n",
      "\u001b[37;44m│\u001b[0m\u001b[37;44m \u001b[0m\u001b[37;44m  / /|_/ / /   / __/______/ / / __ \\/ __ \\/ / __ \\/ __ \\| |/_/\u001b[0m\u001b[37;44m     \u001b[0m\u001b]8;id=777572;https://twitter.com/RobertTLange\u001b\\\u001b[37;44m@RobertTLange\u001b[0m\u001b]8;;\u001b\\\u001b[37;44m 🐦\u001b[0m\u001b[37;44m \u001b[0m\u001b[37;44m│\u001b[0m\n",
      "\u001b[37;44m│\u001b[0m\u001b[37;44m \u001b[0m\u001b[37;44m / /  / / /___/ /__/_____/ / / /_/ / /_/ / / /_/ / /_/ />  <  \u001b[0m\u001b[37;44m  \u001b[0m\u001b]8;id=256787;https://roberttlange.github.io/mle-toolbox/\u001b\\\u001b[37;44mMLE-Toolbox Docs\u001b[0m\u001b]8;;\u001b\\\u001b[37;44m \u001b[0m\u001b[37;44m📓\u001b[0m\u001b[37;44m \u001b[0m\u001b[37;44m│\u001b[0m\n",
      "\u001b[37;44m│\u001b[0m\u001b[37;44m \u001b[0m\u001b[37;44m/_/  /_/_____/_____/    /_/  \\____/\\____/_/_.___/\\____/_/|_|  \u001b[0m\u001b[37;44m  \u001b[0m\u001b]8;id=146316;https://github.com/RobertTLange/mle-toolbox/\u001b\\\u001b[37;44mMLE-Toolbox Repo\u001b[0m\u001b]8;;\u001b\\\u001b[37;44m \u001b[0m\u001b[37;44m📝\u001b[0m\u001b[37;44m \u001b[0m\u001b[37;44m│\u001b[0m\n",
      "\u001b[37;44m╰─────────────────────────────────────────────────────────────────────────────────────╯\u001b[0m\n",
      "12/08/2021 08:12:19 PM Loaded configuration: configs/grid_search.yaml\n",
      "12/08/2021 08:12:19 PM Run on resource: local\n",
      "12/08/2021 08:12:20 PM Pulled from GCloud Storage - gcloud_mle_protocol.db\n",
      "\u001b[34m                                                                                \u001b[0m\n",
      "\u001b[34m \u001b[0m\u001b[1;34m \u001b[0m\u001b[1;34m🔖\u001b[0m\u001b[1;34m \u001b[0m\u001b[34m \u001b[0m\u001b[1;34m \u001b[0m\u001b[1;34m🆔\u001b[0m\u001b[1;34m \u001b[0m\u001b[34m \u001b[0m\u001b[1;34m \u001b[0m\u001b[1;34m  🗓  \u001b[0m\u001b[1;34m \u001b[0m\u001b[34m \u001b[0m\u001b[1;34m \u001b[0m\u001b[1;34mProject \u001b[0m\u001b[1;34m \u001b[0m\u001b[34m \u001b[0m\u001b[1;34m \u001b[0m\u001b[1;34mPurpose       \u001b[0m\u001b[1;34m \u001b[0m\u001b[34m \u001b[0m\u001b[1;34m \u001b[0m\u001b[1;34mType  \u001b[0m\u001b[1;34m \u001b[0m\u001b[34m \u001b[0m\u001b[1;34m \u001b[0m\u001b[1;34m  \u001b[0m\u001b[1;33m▶\u001b[0m\u001b[1;34m  \u001b[0m\u001b[1;34m \u001b[0m\u001b[34m \u001b[0m\u001b[1;34m \u001b[0m\u001b[1;33m♻\u001b[0m\u001b[1;34m \u001b[0m\u001b[34m \u001b[0m\u001b[1;34m \u001b[0m\u001b[1;34mCPU\u001b[0m\u001b[1;34m \u001b[0m\u001b[34m \u001b[0m\u001b[1;34m \u001b[0m\u001b[1;34mGPU\u001b[0m\u001b[1;34m \u001b[0m\u001b[34m \u001b[0m\n",
      "\u001b[34m ────────────────────────────────────────────────────────────────────────────── \u001b[0m\n",
      "\u001b[34m \u001b[0m \u001b[32m✔\u001b[0m  \u001b[34m \u001b[0m 14 \u001b[34m \u001b[0m 12/08 \u001b[34m \u001b[0m examples \u001b[34m \u001b[0m Grid lrate/bs  \u001b[34m \u001b[0m search \u001b[34m \u001b[0m Local \u001b[34m \u001b[0m 1 \u001b[34m \u001b[0m  2  \u001b[34m \u001b[0m  0  \u001b[34m \u001b[0m\n",
      "\u001b[34m \u001b[0m \u001b[32m✔\u001b[0m  \u001b[34m \u001b[0m 13 \u001b[34m \u001b[0m 12/08 \u001b[34m \u001b[0m examples \u001b[34m \u001b[0m Grid search    \u001b[34m \u001b[0m search \u001b[34m \u001b[0m  SGE  \u001b[34m \u001b[0m 1 \u001b[34m \u001b[0m  2  \u001b[34m \u001b[0m  0  \u001b[34m \u001b[0m\n",
      "\u001b[34m \u001b[0m \u001b[32m✔\u001b[0m  \u001b[34m \u001b[0m 12 \u001b[34m \u001b[0m 12/08 \u001b[34m \u001b[0m examples \u001b[34m \u001b[0m Lrate/BS       \u001b[34m \u001b[0m search \u001b[34m \u001b[0m  SGE  \u001b[34m \u001b[0m 1 \u001b[34m \u001b[0m  2  \u001b[34m \u001b[0m  0  \u001b[34m \u001b[0m\n",
      "\u001b[34m \u001b[0m    \u001b[34m \u001b[0m    \u001b[34m \u001b[0m       \u001b[34m \u001b[0m          \u001b[34m \u001b[0m search         \u001b[34m \u001b[0m        \u001b[34m \u001b[0m       \u001b[34m \u001b[0m   \u001b[34m \u001b[0m     \u001b[34m \u001b[0m     \u001b[34m \u001b[0m\n",
      "\u001b[34m \u001b[0m \u001b[32m✔\u001b[0m  \u001b[34m \u001b[0m 11 \u001b[34m \u001b[0m 12/08 \u001b[34m \u001b[0m examples \u001b[34m \u001b[0m Run grid       \u001b[34m \u001b[0m search \u001b[34m \u001b[0m  SGE  \u001b[34m \u001b[0m 1 \u001b[34m \u001b[0m  2  \u001b[34m \u001b[0m  0  \u001b[34m \u001b[0m\n",
      "\u001b[34m \u001b[0m    \u001b[34m \u001b[0m    \u001b[34m \u001b[0m       \u001b[34m \u001b[0m          \u001b[34m \u001b[0m search         \u001b[34m \u001b[0m        \u001b[34m \u001b[0m       \u001b[34m \u001b[0m   \u001b[34m \u001b[0m     \u001b[34m \u001b[0m     \u001b[34m \u001b[0m\n",
      "\u001b[34m \u001b[0m \u001b[32m✔\u001b[0m  \u001b[34m \u001b[0m 10 \u001b[34m \u001b[0m 12/07 \u001b[34m \u001b[0m arapaima \u001b[34m \u001b[0m Arch/Lrate/Wd… \u001b[34m \u001b[0m search \u001b[34m \u001b[0m  SGE  \u001b[34m \u001b[0m 1 \u001b[34m \u001b[0m  4  \u001b[34m \u001b[0m  1  \u001b[34m \u001b[0m\n",
      "\u001b[34m \u001b[0m \u001b[31m✖\u001b[0m  \u001b[34m \u001b[0m 9  \u001b[34m \u001b[0m 12/07 \u001b[34m \u001b[0m arapaima \u001b[34m \u001b[0m Arch/Lrate/Wd… \u001b[34m \u001b[0m search \u001b[34m \u001b[0m  SGE  \u001b[34m \u001b[0m 1 \u001b[34m \u001b[0m  4  \u001b[34m \u001b[0m  1  \u001b[34m \u001b[0m\n",
      "\u001b[34m \u001b[0m \u001b[32m✔\u001b[0m  \u001b[34m \u001b[0m 8  \u001b[34m \u001b[0m 12/07 \u001b[34m \u001b[0m examples \u001b[34m \u001b[0m Total exp plot \u001b[34m \u001b[0m search \u001b[34m \u001b[0m  SGE  \u001b[34m \u001b[0m 1 \u001b[34m \u001b[0m  2  \u001b[34m \u001b[0m  0  \u001b[34m \u001b[0m\n",
      "\u001b[34m \u001b[0m \u001b[32m✔\u001b[0m  \u001b[34m \u001b[0m 7  \u001b[34m \u001b[0m 12/06 \u001b[34m \u001b[0m evobench \u001b[34m \u001b[0m Classic 500D   \u001b[34m \u001b[0m search \u001b[34m \u001b[0m Slurm \u001b[34m \u001b[0m 5 \u001b[34m \u001b[0m  1  \u001b[34m \u001b[0m  0  \u001b[34m \u001b[0m\n",
      "\u001b[34m \u001b[0m \u001b[32m✔\u001b[0m  \u001b[34m \u001b[0m 6  \u001b[34m \u001b[0m 12/06 \u001b[34m \u001b[0m evobench \u001b[34m \u001b[0m Classic 100D   \u001b[34m \u001b[0m search \u001b[34m \u001b[0m Slurm \u001b[34m \u001b[0m 5 \u001b[34m \u001b[0m  1  \u001b[34m \u001b[0m  0  \u001b[34m \u001b[0m\n",
      "\u001b[34m \u001b[0m \u001b[32m✔\u001b[0m  \u001b[34m \u001b[0m 5  \u001b[34m \u001b[0m 12/06 \u001b[34m \u001b[0m evobench \u001b[34m \u001b[0m Classic 50D    \u001b[34m \u001b[0m search \u001b[34m \u001b[0m Slurm \u001b[34m \u001b[0m 5 \u001b[34m \u001b[0m  1  \u001b[34m \u001b[0m  0  \u001b[34m \u001b[0m\n",
      "\u001b[34m                                                                                \u001b[0m\n",
      "12/08/2021 08:12:21 PM Send to GCloud Storage - gcloud_mle_protocol.db\n",
      "12/08/2021 08:12:21 PM Updated protocol - STARTING: 15\n",
      "==================================  RUN EXPERIMENT  =================================\n",
      "12/08/2021 08:12:23 PM Log Init: experiments/search_grid/hyper_log.pkl\n",
      "12/08/2021 08:12:23 PM Scoring: final | Max: False | Seeds: p50\n",
      "12/08/2021 08:12:23 PM Metrics: ['test_loss']\n",
      "===========================  HYPEROPT LOGGER INITIALIZED  ===========================\n",
      "12/08/2021 08:12:23 PM Hyperoptimisation (async - grid) Run - Range of Parameters:\n",
      "\n",
      "           \u001b[3m         MLE-Hyperopt Gird Search Hyperspace 🚀          \u001b[0m            \n",
      "                                                                                \n",
      "            \u001b[1m \u001b[0m\u001b[1m🌻 Variable\u001b[0m\u001b[1m \u001b[0m \u001b[1m \u001b[0m\u001b[1mType   \u001b[0m\u001b[1m \u001b[0m \u001b[1;31m \u001b[0m\u001b[1;31mSearch Range ↔               \u001b[0m\u001b[1;31m \u001b[0m             \n",
      "            ───────────────────────────────────────────────────────             \n",
      "             lrate         real     \u001b[31m \u001b[0m\u001b[31mBegin: 0.1, End: 0.5, Bins: 2\u001b[0m\u001b[31m \u001b[0m             \n",
      "             batch_size    integer  \u001b[31m \u001b[0m\u001b[31mBegin: 1, End: 5, Bins: 2    \u001b[0m\u001b[31m \u001b[0m             \n",
      "                                                                                \n",
      "12/08/2021 08:12:23 PM Total Search Evals: 4 | Running Job Limit: 4 | Seeds/Eval: 1\n",
      "===============================  START HYPEROPT RUNS  ===============================\n",
      "12/08/2021 08:12:23 PM START - 4 Eval Configs - 4 Jobs at a Time - 1 Seeds\n",
      "\u001b[2K  \u001b[1;34mMLEQueue - local •\u001b[0m 4/4 Jobs \u001b[38;2;114;156;31m━━━━━━━━━━━━━━━━━━━━━━━━━━━\u001b[0m \u001b[35m100% •\u001b[0m \u001b[33m0:00:01\u001b[0m ⌛5% •\u001b[0m \u001b[33m0:00:01\u001b[0m ⌛0:00:01\u001b[0m ⌛\n",
      "\u001b[?25hTraceback (most recent call last):\n",
      "  File \"/Users/rob/miniconda3/envs/mle-toolbox/bin/mle\", line 33, in <module>\n",
      "    sys.exit(load_entry_point('mle-toolbox', 'console_scripts', 'mle')())\n",
      "  File \"/Users/rob/Dropbox/core-code/mle-infrastructure/mle-toolbox/mle_toolbox/toolbox.py\", line 36, in main\n",
      "    run(args)\n",
      "  File \"/Users/rob/Dropbox/core-code/mle-infrastructure/mle-toolbox/mle_toolbox/src/run.py\", line 179, in run\n",
      "    run_hyperparameter_search(\n",
      "  File \"/Users/rob/Dropbox/core-code/mle-infrastructure/mle-toolbox/mle_toolbox/launch/search_experiment.py\", line 31, in run_hyperparameter_search\n",
      "    run_single_config_search(\n",
      "  File \"/Users/rob/Dropbox/core-code/mle-infrastructure/mle-toolbox/mle_toolbox/launch/search_experiment.py\", line 111, in run_single_config_search\n",
      "    hyper_opt_instance.run_search(**param_search_args[\"search_resources\"])\n",
      "  File \"/Users/rob/Dropbox/core-code/mle-infrastructure/mle-toolbox/mle_toolbox/hyperopt/hyperopt_base.py\", line 149, in run_search\n",
      "    self.run_async_search(\n",
      "  File \"/Users/rob/Dropbox/core-code/mle-infrastructure/mle-toolbox/mle_toolbox/hyperopt/hyperopt_base.py\", line 192, in run_async_search\n",
      "    job_queue.run()\n",
      "  File \"/Users/rob/Dropbox/core-code/mle-infrastructure/mle-scheduler/mle_scheduler/job_queue.py\", line 300, in run\n",
      "    self.merge_seeds(log_dir)\n",
      "  File \"/Users/rob/Dropbox/core-code/mle-infrastructure/mle-scheduler/mle_scheduler/job_queue.py\", line 350, in merge_seeds\n",
      "    merge_seed_logs(merged_path, experiment_dir, self.num_seeds)\n",
      "  File \"/Users/rob/Dropbox/core-code/mle-infrastructure/mle-logging/mle_logging/merge/merge_logs.py\", line 17, in merge_seed_logs\n",
      "    log_paths = [os.path.join(log_dir, log) for log in os.listdir(log_dir)]\n",
      "FileNotFoundError: [Errno 2] No such file or directory: 'experiments/search_grid/b_0_eval_0/logs'\n"
     ]
    }
   ],
   "source": [
    "!mle run configs/grid_search.yaml --purpose Grid Search"
   ]
  },
  {
   "cell_type": "code",
   "execution_count": null,
   "id": "4bc9825d-f07d-4ce5-943c-6823f07e944d",
   "metadata": {},
   "outputs": [],
   "source": [
    "from mle_toolbox import load_result_logs\n",
    "\n",
    "meta_log, hyper_log = load_result_logs(\"experiments)"
   ]
  }
 ],
 "metadata": {
  "kernelspec": {
   "display_name": "Python3 (mle-toolbox)",
   "language": "python",
   "name": "mle-toolbox"
  },
  "language_info": {
   "codemirror_mode": {
    "name": "ipython",
    "version": 3
   },
   "file_extension": ".py",
   "mimetype": "text/x-python",
   "name": "python",
   "nbconvert_exporter": "python",
   "pygments_lexer": "ipython3",
   "version": "3.9.6"
  }
 },
 "nbformat": 4,
 "nbformat_minor": 5
}
